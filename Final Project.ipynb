{
 "cells": [
  {
   "cell_type": "markdown",
   "metadata": {},
   "source": [
    "Comp 4447 Final Project\n",
    "Predict Box Office Opening Weekend Revenue\n",
    "By: Arisbeth Laguna, Dan Jung and Matt Ostendorf"
   ]
  },
  {
   "cell_type": "markdown",
   "metadata": {},
   "source": [
    "Import Libraries"
   ]
  },
  {
   "cell_type": "code",
   "execution_count": 1293,
   "metadata": {},
   "outputs": [],
   "source": [
    "import pandas as pd\n",
    "import numpy as np\n",
    "from sklearn.ensemble import RandomForestRegressor\n",
    "from sklearn.tree import DecisionTreeRegressor\n",
    "from sklearn.model_selection import train_test_split , RandomizedSearchCV, cross_val_predict, cross_val_score\n",
    "from sklearn.linear_model import LinearRegression\n",
    "import seaborn as sns\n",
    "import matplotlib.pyplot as plt\n",
    "import os \n",
    "from sklearn.preprocessing import StandardScaler\n",
    "import json"
   ]
  },
  {
   "cell_type": "markdown",
   "metadata": {},
   "source": [
    "Create Random State Variable"
   ]
  },
  {
   "cell_type": "code",
   "execution_count": 1294,
   "metadata": {},
   "outputs": [],
   "source": [
    "rand_state = 425"
   ]
  },
  {
   "cell_type": "markdown",
   "metadata": {},
   "source": [
    "Read in data files to dataframes"
   ]
  },
  {
   "cell_type": "code",
   "execution_count": 1295,
   "metadata": {},
   "outputs": [],
   "source": [
    "movie_data = pd.read_csv('OMDB API Data.csv')\n",
    "CPI_data = pd.read_csv('CPI Data.csv')\n"
   ]
  },
  {
   "cell_type": "markdown",
   "metadata": {},
   "source": [
    "Display few rows of movie data"
   ]
  },
  {
   "cell_type": "code",
   "execution_count": 1296,
   "metadata": {},
   "outputs": [
    {
     "data": {
      "text/html": [
       "<div>\n",
       "<style scoped>\n",
       "    .dataframe tbody tr th:only-of-type {\n",
       "        vertical-align: middle;\n",
       "    }\n",
       "\n",
       "    .dataframe tbody tr th {\n",
       "        vertical-align: top;\n",
       "    }\n",
       "\n",
       "    .dataframe thead th {\n",
       "        text-align: right;\n",
       "    }\n",
       "</style>\n",
       "<table border=\"1\" class=\"dataframe\">\n",
       "  <thead>\n",
       "    <tr style=\"text-align: right;\">\n",
       "      <th></th>\n",
       "      <th>imdbID</th>\n",
       "      <th>TT URL</th>\n",
       "      <th>Opening Revenue</th>\n",
       "      <th>RL URL</th>\n",
       "      <th>Number of Theaters</th>\n",
       "      <th>tmdbID</th>\n",
       "      <th>url</th>\n",
       "      <th>budget</th>\n",
       "      <th>original_title</th>\n",
       "      <th>title</th>\n",
       "      <th>overview</th>\n",
       "      <th>production_company</th>\n",
       "      <th>belongs_to_collection</th>\n",
       "      <th>omdb title</th>\n",
       "      <th>year</th>\n",
       "      <th>Rated</th>\n",
       "      <th>Released</th>\n",
       "      <th>Runtime</th>\n",
       "      <th>Genre</th>\n",
       "      <th>Director</th>\n",
       "      <th>Writer</th>\n",
       "      <th>Actors</th>\n",
       "      <th>Plot</th>\n",
       "      <th>Language</th>\n",
       "      <th>Country</th>\n",
       "      <th>Awards</th>\n",
       "      <th>Poster</th>\n",
       "      <th>Ratings_IMDB</th>\n",
       "      <th>Ratings_Rotten</th>\n",
       "      <th>Ratings_Metacritic</th>\n",
       "      <th>Metascore</th>\n",
       "      <th>imdbRating</th>\n",
       "      <th>imdbVotes</th>\n",
       "      <th>Type</th>\n",
       "      <th>DVD</th>\n",
       "      <th>BoxOffice</th>\n",
       "      <th>Production</th>\n",
       "      <th>Website</th>\n",
       "      <th>Response</th>\n",
       "    </tr>\n",
       "  </thead>\n",
       "  <tbody>\n",
       "    <tr>\n",
       "      <th>0</th>\n",
       "      <td>tt0338751</td>\n",
       "      <td>https://www.boxofficemojo.com/title/tt00338751/?ref_=bo_se_r_1</td>\n",
       "      <td>$858,021</td>\n",
       "      <td>https://www.boxofficemojo.com/release/rl742753793/weekend?ref_=bo_tt_gr#table</td>\n",
       "      <td>40</td>\n",
       "      <td>2567</td>\n",
       "      <td>https://api.themoviedb.org/3/movie/2567?api_key=448fb8084e6c46cb8447cda0cd773e3a</td>\n",
       "      <td>110000000.0</td>\n",
       "      <td>The Aviator</td>\n",
       "      <td>The Aviator</td>\n",
       "      <td>A biopic depicting the life of filmmaker and aviation pioneer Howard Hughes from 1927 to 1947, during which time he became a successful film producer and an aviation magnate, while simultaneously growing more unstable due to severe obsessive-compulsive disorder.</td>\n",
       "      <td>[{'id': 14, 'logo_path': '/m6AHu84oZQxvq7n1rsvMNJIAsMu.png', 'name': 'Miramax', 'origin_country': 'US'}, {'id': 562, 'logo_path': '/azANEzu3H3Kztzt63sdjvlzxhuB.png', 'name': 'Appian Way', 'origin_country': 'US'}, {'id': 675, 'logo_path': None, 'name': 'Forward Pass', 'origin_country': 'US'}, {'id': 7380, 'logo_path': None, 'name': 'Initial Entertainment Group', 'origin_country': 'US'}, {'id': 19116, 'logo_path': None, 'name': 'IMF Internationale Medien und Film GmbH &amp; Co. 3. Produktions KG', 'origin_country': 'DE'}, {'id': 174, 'logo_path': '/IuAlhI9eVC9Z8UQWOIDdWRKSEJ.png', 'name': 'Warner Bros. Pictures', 'origin_country': 'US'}]</td>\n",
       "      <td>None</td>\n",
       "      <td>The Aviator</td>\n",
       "      <td>2004.0</td>\n",
       "      <td>PG-13</td>\n",
       "      <td>12/25/2004</td>\n",
       "      <td>170 min</td>\n",
       "      <td>Biography, Drama</td>\n",
       "      <td>Martin Scorsese</td>\n",
       "      <td>John Logan</td>\n",
       "      <td>Leonardo DiCaprio, Cate Blanchett, Kate Beckinsale</td>\n",
       "      <td>A biopic depicting the early years of legendary director and aviator Howard Hughes' career from the late 1920s to the mid 1940s.</td>\n",
       "      <td>English, Persian</td>\n",
       "      <td>United States, Germany</td>\n",
       "      <td>Won 5 Oscars. 89 wins &amp;amp; 131 nominations total</td>\n",
       "      <td>https://m.media-amazon.com/images/M/MV5BZTYzMjA2M2EtYmY1OC00ZWMxLThlY2YtZGI3MTQzOWM4YjE3XkEyXkFqcGdeQXVyMTQxNzMzNDI@._V1_SX300.jpg</td>\n",
       "      <td>7.5/10</td>\n",
       "      <td>86%</td>\n",
       "      <td>77/100</td>\n",
       "      <td>77.0</td>\n",
       "      <td>7.5</td>\n",
       "      <td>376,165</td>\n",
       "      <td>movie</td>\n",
       "      <td>19-Apr-16</td>\n",
       "      <td>$102,610,330</td>\n",
       "      <td>NaN</td>\n",
       "      <td>NaN</td>\n",
       "      <td>True</td>\n",
       "    </tr>\n",
       "    <tr>\n",
       "      <th>1</th>\n",
       "      <td>tt0293508</td>\n",
       "      <td>https://www.boxofficemojo.com/title/tt00293508/?ref_=bo_se_r_1</td>\n",
       "      <td>$4,001,890</td>\n",
       "      <td>https://www.boxofficemojo.com/release/rl1214809601/weekend?ref_=bo_tt_gr#table</td>\n",
       "      <td>622</td>\n",
       "      <td>9833</td>\n",
       "      <td>https://api.themoviedb.org/3/movie/9833?api_key=448fb8084e6c46cb8447cda0cd773e3a</td>\n",
       "      <td>70000000.0</td>\n",
       "      <td>The Phantom of the Opera</td>\n",
       "      <td>The Phantom of the Opera</td>\n",
       "      <td>Deformed since birth, a bitter man known only as the Phantom lives in the sewers underneath the Paris Opera House. He falls in love with the obscure chorus singer Christine, and privately tutors her while terrorizing the rest of the opera house and demanding Christine be given lead roles.</td>\n",
       "      <td>[{'id': 174, 'logo_path': '/IuAlhI9eVC9Z8UQWOIDdWRKSEJ.png', 'name': 'Warner Bros. Pictures', 'origin_country': 'US'}, {'id': 3539, 'logo_path': None, 'name': 'Odyssey Entertainment', 'origin_country': 'GB'}, {'id': 7419, 'logo_path': '/gz5Kdc138DEz93LvcppdBPuW1jV.png', 'name': 'Scion Films', 'origin_country': 'GB'}, {'id': 7922, 'logo_path': '/kWdopfnceXhS3RRkU5ktd7J3nXx.png', 'name': 'The Really Useful Group', 'origin_country': 'GB'}]</td>\n",
       "      <td>None</td>\n",
       "      <td>The Phantom of the Opera</td>\n",
       "      <td>2004.0</td>\n",
       "      <td>PG-13</td>\n",
       "      <td>1/21/2005</td>\n",
       "      <td>143 min</td>\n",
       "      <td>Drama, Musical, Romance</td>\n",
       "      <td>Joel Schumacher</td>\n",
       "      <td>Gaston Leroux, Andrew Lloyd Webber, Joel Schumacher</td>\n",
       "      <td>Gerard Butler, Emmy Rossum, Patrick Wilson</td>\n",
       "      <td>A young soprano becomes the obsession of a disfigured and murderous musical genius who lives beneath the Paris Opéra House.</td>\n",
       "      <td>English, Italian</td>\n",
       "      <td>United Kingdom, United States</td>\n",
       "      <td>Nominated for 3 Oscars. 7 wins &amp;amp; 42 nominations total</td>\n",
       "      <td>https://m.media-amazon.com/images/M/MV5BNDczNzg4OTM3MV5BMl5BanBnXkFtZTcwOTQzMTEzMw@@._V1_SX300.jpg</td>\n",
       "      <td>7.2/10</td>\n",
       "      <td>33%</td>\n",
       "      <td>40/100</td>\n",
       "      <td>40.0</td>\n",
       "      <td>7.2</td>\n",
       "      <td>128,266</td>\n",
       "      <td>movie</td>\n",
       "      <td>27-Dec-11</td>\n",
       "      <td>$51,293,931</td>\n",
       "      <td>NaN</td>\n",
       "      <td>NaN</td>\n",
       "      <td>True</td>\n",
       "    </tr>\n",
       "    <tr>\n",
       "      <th>2</th>\n",
       "      <td>tt0363473</td>\n",
       "      <td>https://www.boxofficemojo.com/title/tt00363473/?ref_=bo_se_r_1</td>\n",
       "      <td>$45,264</td>\n",
       "      <td>https://www.boxofficemojo.com/release/rl3326379521/weekend?ref_=bo_tt_gr#table</td>\n",
       "      <td>6</td>\n",
       "      <td>6478</td>\n",
       "      <td>https://api.themoviedb.org/3/movie/6478?api_key=448fb8084e6c46cb8447cda0cd773e3a</td>\n",
       "      <td>25000000.0</td>\n",
       "      <td>Beyond the Sea</td>\n",
       "      <td>Beyond the Sea</td>\n",
       "      <td>Based on the life and career of legendary entertainer, Bobby Darin, the biopic moves back and forth between his childhood and adulthood, to tell the tale of his life.</td>\n",
       "      <td>[{'id': 1632, 'logo_path': '/cisLn1YAUuptXVBa0xjq7ST9cH0.png', 'name': 'Lionsgate', 'origin_country': 'US'}]</td>\n",
       "      <td>None</td>\n",
       "      <td>Beyond the Sea</td>\n",
       "      <td>2004.0</td>\n",
       "      <td>PG-13</td>\n",
       "      <td>12/29/2004</td>\n",
       "      <td>118 min</td>\n",
       "      <td>Biography, Drama, Music</td>\n",
       "      <td>Kevin Spacey</td>\n",
       "      <td>Kevin Spacey, Lewis Colick</td>\n",
       "      <td>Kevin Spacey, Kate Bosworth, John Goodman</td>\n",
       "      <td>A swooning study of \"Mack the Knife\" singer Bobby Darin and specifically his relationship with wife Sandra Dee.</td>\n",
       "      <td>English, Italian</td>\n",
       "      <td>United Kingdom, Germany, United States</td>\n",
       "      <td>7 nominations</td>\n",
       "      <td>https://m.media-amazon.com/images/M/MV5BMTY2MzI0ODE3NF5BMl5BanBnXkFtZTYwODI4NDM3._V1_SX300.jpg</td>\n",
       "      <td>6.7/10</td>\n",
       "      <td>42%</td>\n",
       "      <td>46/100</td>\n",
       "      <td>46.0</td>\n",
       "      <td>6.7</td>\n",
       "      <td>15,400</td>\n",
       "      <td>movie</td>\n",
       "      <td>1-Oct-16</td>\n",
       "      <td>$6,318,709</td>\n",
       "      <td>NaN</td>\n",
       "      <td>NaN</td>\n",
       "      <td>True</td>\n",
       "    </tr>\n",
       "    <tr>\n",
       "      <th>3</th>\n",
       "      <td>tt0361127</td>\n",
       "      <td>https://www.boxofficemojo.com/title/tt00361127/?ref_=bo_se_r_1</td>\n",
       "      <td>$53,985</td>\n",
       "      <td>https://www.boxofficemojo.com/release/rl494568961/weekend?ref_=bo_tt_gr#table</td>\n",
       "      <td>6</td>\n",
       "      <td>9692</td>\n",
       "      <td>https://api.themoviedb.org/3/movie/9692?api_key=448fb8084e6c46cb8447cda0cd773e3a</td>\n",
       "      <td>0.0</td>\n",
       "      <td>The Woodsman</td>\n",
       "      <td>The Woodsman</td>\n",
       "      <td>A paedophile returns to his hometown after 12 years in prison and attempts to start a new life.</td>\n",
       "      <td>[{'id': 695, 'logo_path': '/rxXG5CZjBGFbJt9tYgrySrkJCTF.png', 'name': 'Lee Daniels Entertainment', 'origin_country': 'US'}, {'id': 4372, 'logo_path': None, 'name': 'Dash Films', 'origin_country': 'US'}]</td>\n",
       "      <td>None</td>\n",
       "      <td>The Woodsman</td>\n",
       "      <td>2004.0</td>\n",
       "      <td>R</td>\n",
       "      <td>1/28/2005</td>\n",
       "      <td>87 min</td>\n",
       "      <td>Drama</td>\n",
       "      <td>Nicole Kassell</td>\n",
       "      <td>Steven Fechter, Nicole Kassell</td>\n",
       "      <td>Kevin Bacon, Kyra Sedgwick, Yasiin Bey</td>\n",
       "      <td>A child molester returns to his hometown after 12 years in prison and attempts to start a new life.</td>\n",
       "      <td>English</td>\n",
       "      <td>United States</td>\n",
       "      <td>7 wins &amp;amp; 20 nominations</td>\n",
       "      <td>https://m.media-amazon.com/images/M/MV5BMTk2NDI1NjM2OV5BMl5BanBnXkFtZTcwMjIzMTg4NA@@._V1_SX300.jpg</td>\n",
       "      <td>7.2/10</td>\n",
       "      <td>88%</td>\n",
       "      <td>72/100</td>\n",
       "      <td>72.0</td>\n",
       "      <td>7.2</td>\n",
       "      <td>34,905</td>\n",
       "      <td>movie</td>\n",
       "      <td>14-Dec-16</td>\n",
       "      <td>$1,576,231</td>\n",
       "      <td>NaN</td>\n",
       "      <td>NaN</td>\n",
       "      <td>True</td>\n",
       "    </tr>\n",
       "    <tr>\n",
       "      <th>4</th>\n",
       "      <td>tt0385267</td>\n",
       "      <td>https://www.boxofficemojo.com/title/tt00385267/?ref_=bo_se_r_1</td>\n",
       "      <td>$151,750</td>\n",
       "      <td>https://www.boxofficemojo.com/release/rl91588097/weekend?ref_=bo_tt_gr#table</td>\n",
       "      <td>3</td>\n",
       "      <td>1901</td>\n",
       "      <td>https://api.themoviedb.org/3/movie/1901?api_key=448fb8084e6c46cb8447cda0cd773e3a</td>\n",
       "      <td>0.0</td>\n",
       "      <td>In Good Company</td>\n",
       "      <td>In Good Company</td>\n",
       "      <td>Dan Foreman is a seasoned advertisement sales executive at a high-ranking publication when a corporate takeover results in him being placed under naive supervisor Carter Duryea, who is half his age. Matters are made worse when Dan's new supervisor becomes romantically involved with his daughter an 18 year-old college student Alex.</td>\n",
       "      <td>[{'id': 1473, 'logo_path': None, 'name': 'Depth of Field', 'origin_country': 'US'}]</td>\n",
       "      <td>None</td>\n",
       "      <td>In Good Company</td>\n",
       "      <td>2004.0</td>\n",
       "      <td>PG-13</td>\n",
       "      <td>1/14/2005</td>\n",
       "      <td>109 min</td>\n",
       "      <td>Comedy, Drama, Romance</td>\n",
       "      <td>Paul Weitz</td>\n",
       "      <td>Paul Weitz</td>\n",
       "      <td>Dennis Quaid, Topher Grace, Scarlett Johansson</td>\n",
       "      <td>A middle-aged ad exec is faced with a new boss who's nearly half his age... and who also happens to be sleeping with his daughter.</td>\n",
       "      <td>English</td>\n",
       "      <td>United States</td>\n",
       "      <td>2 wins &amp;amp; 8 nominations</td>\n",
       "      <td>https://m.media-amazon.com/images/M/MV5BZjI3MTViZjgtMTA3NS00MzQwLThhMWItM2YxN2U2NDliNmQwXkEyXkFqcGdeQXVyMTQxNzMzNDI@._V1_SX300.jpg</td>\n",
       "      <td>6.5/10</td>\n",
       "      <td>82%</td>\n",
       "      <td>66/100</td>\n",
       "      <td>66.0</td>\n",
       "      <td>6.5</td>\n",
       "      <td>56,162</td>\n",
       "      <td>movie</td>\n",
       "      <td>7-May-15</td>\n",
       "      <td>$45,806,659</td>\n",
       "      <td>NaN</td>\n",
       "      <td>NaN</td>\n",
       "      <td>True</td>\n",
       "    </tr>\n",
       "  </tbody>\n",
       "</table>\n",
       "</div>"
      ],
      "text/plain": [
       "      imdbID                                                          TT URL  \\\n",
       "0  tt0338751  https://www.boxofficemojo.com/title/tt00338751/?ref_=bo_se_r_1   \n",
       "1  tt0293508  https://www.boxofficemojo.com/title/tt00293508/?ref_=bo_se_r_1   \n",
       "2  tt0363473  https://www.boxofficemojo.com/title/tt00363473/?ref_=bo_se_r_1   \n",
       "3  tt0361127  https://www.boxofficemojo.com/title/tt00361127/?ref_=bo_se_r_1   \n",
       "4  tt0385267  https://www.boxofficemojo.com/title/tt00385267/?ref_=bo_se_r_1   \n",
       "\n",
       "  Opening Revenue  \\\n",
       "0  $858,021         \n",
       "1  $4,001,890       \n",
       "2  $45,264          \n",
       "3  $53,985          \n",
       "4  $151,750         \n",
       "\n",
       "                                                                           RL URL  \\\n",
       "0  https://www.boxofficemojo.com/release/rl742753793/weekend?ref_=bo_tt_gr#table    \n",
       "1  https://www.boxofficemojo.com/release/rl1214809601/weekend?ref_=bo_tt_gr#table   \n",
       "2  https://www.boxofficemojo.com/release/rl3326379521/weekend?ref_=bo_tt_gr#table   \n",
       "3  https://www.boxofficemojo.com/release/rl494568961/weekend?ref_=bo_tt_gr#table    \n",
       "4  https://www.boxofficemojo.com/release/rl91588097/weekend?ref_=bo_tt_gr#table     \n",
       "\n",
       "  Number of Theaters  tmdbID  \\\n",
       "0  40                 2567     \n",
       "1  622                9833     \n",
       "2  6                  6478     \n",
       "3  6                  9692     \n",
       "4  3                  1901     \n",
       "\n",
       "                                                                                url  \\\n",
       "0  https://api.themoviedb.org/3/movie/2567?api_key=448fb8084e6c46cb8447cda0cd773e3a   \n",
       "1  https://api.themoviedb.org/3/movie/9833?api_key=448fb8084e6c46cb8447cda0cd773e3a   \n",
       "2  https://api.themoviedb.org/3/movie/6478?api_key=448fb8084e6c46cb8447cda0cd773e3a   \n",
       "3  https://api.themoviedb.org/3/movie/9692?api_key=448fb8084e6c46cb8447cda0cd773e3a   \n",
       "4  https://api.themoviedb.org/3/movie/1901?api_key=448fb8084e6c46cb8447cda0cd773e3a   \n",
       "\n",
       "        budget            original_title                     title  \\\n",
       "0  110000000.0  The Aviator               The Aviator                \n",
       "1  70000000.0   The Phantom of the Opera  The Phantom of the Opera   \n",
       "2  25000000.0   Beyond the Sea            Beyond the Sea             \n",
       "3  0.0          The Woodsman              The Woodsman               \n",
       "4  0.0          In Good Company           In Good Company            \n",
       "\n",
       "                                                                                                                                                                                                                                                                                                                                       overview  \\\n",
       "0  A biopic depicting the life of filmmaker and aviation pioneer Howard Hughes from 1927 to 1947, during which time he became a successful film producer and an aviation magnate, while simultaneously growing more unstable due to severe obsessive-compulsive disorder.                                                                         \n",
       "1  Deformed since birth, a bitter man known only as the Phantom lives in the sewers underneath the Paris Opera House. He falls in love with the obscure chorus singer Christine, and privately tutors her while terrorizing the rest of the opera house and demanding Christine be given lead roles.                                              \n",
       "2  Based on the life and career of legendary entertainer, Bobby Darin, the biopic moves back and forth between his childhood and adulthood, to tell the tale of his life.                                                                                                                                                                         \n",
       "3  A paedophile returns to his hometown after 12 years in prison and attempts to start a new life.                                                                                                                                                                                                                                                \n",
       "4  Dan Foreman is a seasoned advertisement sales executive at a high-ranking publication when a corporate takeover results in him being placed under naive supervisor Carter Duryea, who is half his age. Matters are made worse when Dan's new supervisor becomes romantically involved with his daughter an 18 year-old college student Alex.   \n",
       "\n",
       "                                                                                                                                                                                                                                                                                                                                                                                                                                                                                                                                                                                                                                                production_company  \\\n",
       "0  [{'id': 14, 'logo_path': '/m6AHu84oZQxvq7n1rsvMNJIAsMu.png', 'name': 'Miramax', 'origin_country': 'US'}, {'id': 562, 'logo_path': '/azANEzu3H3Kztzt63sdjvlzxhuB.png', 'name': 'Appian Way', 'origin_country': 'US'}, {'id': 675, 'logo_path': None, 'name': 'Forward Pass', 'origin_country': 'US'}, {'id': 7380, 'logo_path': None, 'name': 'Initial Entertainment Group', 'origin_country': 'US'}, {'id': 19116, 'logo_path': None, 'name': 'IMF Internationale Medien und Film GmbH & Co. 3. Produktions KG', 'origin_country': 'DE'}, {'id': 174, 'logo_path': '/IuAlhI9eVC9Z8UQWOIDdWRKSEJ.png', 'name': 'Warner Bros. Pictures', 'origin_country': 'US'}]   \n",
       "1  [{'id': 174, 'logo_path': '/IuAlhI9eVC9Z8UQWOIDdWRKSEJ.png', 'name': 'Warner Bros. Pictures', 'origin_country': 'US'}, {'id': 3539, 'logo_path': None, 'name': 'Odyssey Entertainment', 'origin_country': 'GB'}, {'id': 7419, 'logo_path': '/gz5Kdc138DEz93LvcppdBPuW1jV.png', 'name': 'Scion Films', 'origin_country': 'GB'}, {'id': 7922, 'logo_path': '/kWdopfnceXhS3RRkU5ktd7J3nXx.png', 'name': 'The Really Useful Group', 'origin_country': 'GB'}]                                                                                                                                                                                                          \n",
       "2  [{'id': 1632, 'logo_path': '/cisLn1YAUuptXVBa0xjq7ST9cH0.png', 'name': 'Lionsgate', 'origin_country': 'US'}]                                                                                                                                                                                                                                                                                                                                                                                                                                                                                                                                                      \n",
       "3  [{'id': 695, 'logo_path': '/rxXG5CZjBGFbJt9tYgrySrkJCTF.png', 'name': 'Lee Daniels Entertainment', 'origin_country': 'US'}, {'id': 4372, 'logo_path': None, 'name': 'Dash Films', 'origin_country': 'US'}]                                                                                                                                                                                                                                                                                                                                                                                                                                                        \n",
       "4  [{'id': 1473, 'logo_path': None, 'name': 'Depth of Field', 'origin_country': 'US'}]                                                                                                                                                                                                                                                                                                                                                                                                                                                                                                                                                                               \n",
       "\n",
       "  belongs_to_collection                omdb title    year  Rated    Released  \\\n",
       "0  None                  The Aviator               2004.0  PG-13  12/25/2004   \n",
       "1  None                  The Phantom of the Opera  2004.0  PG-13  1/21/2005    \n",
       "2  None                  Beyond the Sea            2004.0  PG-13  12/29/2004   \n",
       "3  None                  The Woodsman              2004.0  R      1/28/2005    \n",
       "4  None                  In Good Company           2004.0  PG-13  1/14/2005    \n",
       "\n",
       "   Runtime                    Genre         Director  \\\n",
       "0  170 min  Biography, Drama         Martin Scorsese   \n",
       "1  143 min  Drama, Musical, Romance  Joel Schumacher   \n",
       "2  118 min  Biography, Drama, Music  Kevin Spacey      \n",
       "3  87 min   Drama                    Nicole Kassell    \n",
       "4  109 min  Comedy, Drama, Romance   Paul Weitz        \n",
       "\n",
       "                                                Writer  \\\n",
       "0  John Logan                                            \n",
       "1  Gaston Leroux, Andrew Lloyd Webber, Joel Schumacher   \n",
       "2  Kevin Spacey, Lewis Colick                            \n",
       "3  Steven Fechter, Nicole Kassell                        \n",
       "4  Paul Weitz                                            \n",
       "\n",
       "                                               Actors  \\\n",
       "0  Leonardo DiCaprio, Cate Blanchett, Kate Beckinsale   \n",
       "1  Gerard Butler, Emmy Rossum, Patrick Wilson           \n",
       "2  Kevin Spacey, Kate Bosworth, John Goodman            \n",
       "3  Kevin Bacon, Kyra Sedgwick, Yasiin Bey               \n",
       "4  Dennis Quaid, Topher Grace, Scarlett Johansson       \n",
       "\n",
       "                                                                                                                                 Plot  \\\n",
       "0  A biopic depicting the early years of legendary director and aviator Howard Hughes' career from the late 1920s to the mid 1940s.     \n",
       "1  A young soprano becomes the obsession of a disfigured and murderous musical genius who lives beneath the Paris Opéra House.          \n",
       "2  A swooning study of \"Mack the Knife\" singer Bobby Darin and specifically his relationship with wife Sandra Dee.                      \n",
       "3  A child molester returns to his hometown after 12 years in prison and attempts to start a new life.                                  \n",
       "4  A middle-aged ad exec is faced with a new boss who's nearly half his age... and who also happens to be sleeping with his daughter.   \n",
       "\n",
       "           Language                                 Country  \\\n",
       "0  English, Persian  United States, Germany                   \n",
       "1  English, Italian  United Kingdom, United States            \n",
       "2  English, Italian  United Kingdom, Germany, United States   \n",
       "3  English           United States                            \n",
       "4  English           United States                            \n",
       "\n",
       "                                                      Awards  \\\n",
       "0  Won 5 Oscars. 89 wins &amp; 131 nominations total           \n",
       "1  Nominated for 3 Oscars. 7 wins &amp; 42 nominations total   \n",
       "2  7 nominations                                               \n",
       "3  7 wins &amp; 20 nominations                                 \n",
       "4  2 wins &amp; 8 nominations                                  \n",
       "\n",
       "                                                                                                                               Poster  \\\n",
       "0  https://m.media-amazon.com/images/M/MV5BZTYzMjA2M2EtYmY1OC00ZWMxLThlY2YtZGI3MTQzOWM4YjE3XkEyXkFqcGdeQXVyMTQxNzMzNDI@._V1_SX300.jpg   \n",
       "1  https://m.media-amazon.com/images/M/MV5BNDczNzg4OTM3MV5BMl5BanBnXkFtZTcwOTQzMTEzMw@@._V1_SX300.jpg                                   \n",
       "2  https://m.media-amazon.com/images/M/MV5BMTY2MzI0ODE3NF5BMl5BanBnXkFtZTYwODI4NDM3._V1_SX300.jpg                                       \n",
       "3  https://m.media-amazon.com/images/M/MV5BMTk2NDI1NjM2OV5BMl5BanBnXkFtZTcwMjIzMTg4NA@@._V1_SX300.jpg                                   \n",
       "4  https://m.media-amazon.com/images/M/MV5BZjI3MTViZjgtMTA3NS00MzQwLThhMWItM2YxN2U2NDliNmQwXkEyXkFqcGdeQXVyMTQxNzMzNDI@._V1_SX300.jpg   \n",
       "\n",
       "  Ratings_IMDB Ratings_Rotten Ratings_Metacritic  Metascore  imdbRating  \\\n",
       "0  7.5/10       86%            77/100             77.0       7.5          \n",
       "1  7.2/10       33%            40/100             40.0       7.2          \n",
       "2  6.7/10       42%            46/100             46.0       6.7          \n",
       "3  7.2/10       88%            72/100             72.0       7.2          \n",
       "4  6.5/10       82%            66/100             66.0       6.5          \n",
       "\n",
       "  imdbVotes   Type        DVD      BoxOffice Production Website Response  \n",
       "0  376,165   movie  19-Apr-16  $102,610,330   NaN        NaN     True     \n",
       "1  128,266   movie  27-Dec-11  $51,293,931    NaN        NaN     True     \n",
       "2  15,400    movie  1-Oct-16   $6,318,709     NaN        NaN     True     \n",
       "3  34,905    movie  14-Dec-16  $1,576,231     NaN        NaN     True     \n",
       "4  56,162    movie  7-May-15   $45,806,659    NaN        NaN     True     "
      ]
     },
     "execution_count": 1296,
     "metadata": {},
     "output_type": "execute_result"
    }
   ],
   "source": [
    "pd.set_option('display.max_columns', None)\n",
    "movie_data.head(5)"
   ]
  },
  {
   "cell_type": "code",
   "execution_count": 1297,
   "metadata": {},
   "outputs": [],
   "source": [
    "#Dropping duplicate rows\n",
    "movie_data.drop(['imdbRating', 'Metascore'], axis=1, inplace=True)"
   ]
  },
  {
   "cell_type": "markdown",
   "metadata": {},
   "source": [
    "Display a few rows of CPI data"
   ]
  },
  {
   "cell_type": "code",
   "execution_count": 1298,
   "metadata": {},
   "outputs": [
    {
     "data": {
      "text/html": [
       "<div>\n",
       "<style scoped>\n",
       "    .dataframe tbody tr th:only-of-type {\n",
       "        vertical-align: middle;\n",
       "    }\n",
       "\n",
       "    .dataframe tbody tr th {\n",
       "        vertical-align: top;\n",
       "    }\n",
       "\n",
       "    .dataframe thead th {\n",
       "        text-align: right;\n",
       "    }\n",
       "</style>\n",
       "<table border=\"1\" class=\"dataframe\">\n",
       "  <thead>\n",
       "    <tr style=\"text-align: right;\">\n",
       "      <th></th>\n",
       "      <th>Year</th>\n",
       "      <th>1</th>\n",
       "      <th>2</th>\n",
       "      <th>3</th>\n",
       "      <th>4</th>\n",
       "      <th>5</th>\n",
       "      <th>6</th>\n",
       "      <th>7</th>\n",
       "      <th>8</th>\n",
       "      <th>9</th>\n",
       "      <th>10</th>\n",
       "      <th>11</th>\n",
       "      <th>12</th>\n",
       "      <th>HALF1</th>\n",
       "      <th>HALF2</th>\n",
       "    </tr>\n",
       "  </thead>\n",
       "  <tbody>\n",
       "    <tr>\n",
       "      <th>0</th>\n",
       "      <td>1913</td>\n",
       "      <td>9.8</td>\n",
       "      <td>9.8</td>\n",
       "      <td>9.8</td>\n",
       "      <td>9.8</td>\n",
       "      <td>9.7</td>\n",
       "      <td>9.8</td>\n",
       "      <td>9.9</td>\n",
       "      <td>9.9</td>\n",
       "      <td>10.0</td>\n",
       "      <td>10.0</td>\n",
       "      <td>10.1</td>\n",
       "      <td>10.0</td>\n",
       "      <td>NaN</td>\n",
       "      <td>NaN</td>\n",
       "    </tr>\n",
       "    <tr>\n",
       "      <th>1</th>\n",
       "      <td>1914</td>\n",
       "      <td>10.0</td>\n",
       "      <td>9.9</td>\n",
       "      <td>9.9</td>\n",
       "      <td>9.8</td>\n",
       "      <td>9.9</td>\n",
       "      <td>9.9</td>\n",
       "      <td>10.0</td>\n",
       "      <td>10.2</td>\n",
       "      <td>10.2</td>\n",
       "      <td>10.1</td>\n",
       "      <td>10.2</td>\n",
       "      <td>10.1</td>\n",
       "      <td>NaN</td>\n",
       "      <td>NaN</td>\n",
       "    </tr>\n",
       "    <tr>\n",
       "      <th>2</th>\n",
       "      <td>1915</td>\n",
       "      <td>10.1</td>\n",
       "      <td>10.0</td>\n",
       "      <td>9.9</td>\n",
       "      <td>10.0</td>\n",
       "      <td>10.1</td>\n",
       "      <td>10.1</td>\n",
       "      <td>10.1</td>\n",
       "      <td>10.1</td>\n",
       "      <td>10.1</td>\n",
       "      <td>10.2</td>\n",
       "      <td>10.3</td>\n",
       "      <td>10.3</td>\n",
       "      <td>NaN</td>\n",
       "      <td>NaN</td>\n",
       "    </tr>\n",
       "    <tr>\n",
       "      <th>3</th>\n",
       "      <td>1916</td>\n",
       "      <td>10.4</td>\n",
       "      <td>10.4</td>\n",
       "      <td>10.5</td>\n",
       "      <td>10.6</td>\n",
       "      <td>10.7</td>\n",
       "      <td>10.8</td>\n",
       "      <td>10.8</td>\n",
       "      <td>10.9</td>\n",
       "      <td>11.1</td>\n",
       "      <td>11.3</td>\n",
       "      <td>11.5</td>\n",
       "      <td>11.6</td>\n",
       "      <td>NaN</td>\n",
       "      <td>NaN</td>\n",
       "    </tr>\n",
       "    <tr>\n",
       "      <th>4</th>\n",
       "      <td>1917</td>\n",
       "      <td>11.7</td>\n",
       "      <td>12.0</td>\n",
       "      <td>12.0</td>\n",
       "      <td>12.6</td>\n",
       "      <td>12.8</td>\n",
       "      <td>13.0</td>\n",
       "      <td>12.8</td>\n",
       "      <td>13.0</td>\n",
       "      <td>13.3</td>\n",
       "      <td>13.5</td>\n",
       "      <td>13.5</td>\n",
       "      <td>13.7</td>\n",
       "      <td>NaN</td>\n",
       "      <td>NaN</td>\n",
       "    </tr>\n",
       "  </tbody>\n",
       "</table>\n",
       "</div>"
      ],
      "text/plain": [
       "   Year     1     2     3     4     5     6     7     8     9    10    11  \\\n",
       "0  1913  9.8   9.8   9.8   9.8   9.7   9.8   9.9   9.9   10.0  10.0  10.1   \n",
       "1  1914  10.0  9.9   9.9   9.8   9.9   9.9   10.0  10.2  10.2  10.1  10.2   \n",
       "2  1915  10.1  10.0  9.9   10.0  10.1  10.1  10.1  10.1  10.1  10.2  10.3   \n",
       "3  1916  10.4  10.4  10.5  10.6  10.7  10.8  10.8  10.9  11.1  11.3  11.5   \n",
       "4  1917  11.7  12.0  12.0  12.6  12.8  13.0  12.8  13.0  13.3  13.5  13.5   \n",
       "\n",
       "     12  HALF1  HALF2  \n",
       "0  10.0 NaN    NaN     \n",
       "1  10.1 NaN    NaN     \n",
       "2  10.3 NaN    NaN     \n",
       "3  11.6 NaN    NaN     \n",
       "4  13.7 NaN    NaN     "
      ]
     },
     "execution_count": 1298,
     "metadata": {},
     "output_type": "execute_result"
    }
   ],
   "source": [
    "CPI_data.head(5)"
   ]
  },
  {
   "cell_type": "markdown",
   "metadata": {},
   "source": [
    "Review the types of data in movie data"
   ]
  },
  {
   "cell_type": "code",
   "execution_count": 1299,
   "metadata": {},
   "outputs": [
    {
     "name": "stdout",
     "output_type": "stream",
     "text": [
      "<class 'pandas.core.frame.DataFrame'>\n",
      "RangeIndex: 13005 entries, 0 to 13004\n",
      "Data columns (total 37 columns):\n",
      " #   Column                 Non-Null Count  Dtype  \n",
      "---  ------                 --------------  -----  \n",
      " 0   imdbID                 13005 non-null  object \n",
      " 1   TT URL                 13005 non-null  object \n",
      " 2   Opening Revenue        13005 non-null  object \n",
      " 3   RL URL                 13005 non-null  object \n",
      " 4   Number of Theaters     13005 non-null  object \n",
      " 5   tmdbID                 13005 non-null  int64  \n",
      " 6   url                    13005 non-null  object \n",
      " 7   budget                 12973 non-null  float64\n",
      " 8   original_title         12973 non-null  object \n",
      " 9   title                  12973 non-null  object \n",
      " 10  overview               12972 non-null  object \n",
      " 11  production_company     13005 non-null  object \n",
      " 12  belongs_to_collection  13005 non-null  object \n",
      " 13  omdb title             12999 non-null  object \n",
      " 14  year                   12999 non-null  float64\n",
      " 15  Rated                  12389 non-null  object \n",
      " 16  Released               12941 non-null  object \n",
      " 17  Runtime                12980 non-null  object \n",
      " 18  Genre                  12981 non-null  object \n",
      " 19  Director               12972 non-null  object \n",
      " 20  Writer                 12433 non-null  object \n",
      " 21  Actors                 12922 non-null  object \n",
      " 22  Plot                   12978 non-null  object \n",
      " 23  Language               12968 non-null  object \n",
      " 24  Country                12981 non-null  object \n",
      " 25  Awards                 10872 non-null  object \n",
      " 26  Poster                 12981 non-null  object \n",
      " 27  Ratings_IMDB           12979 non-null  object \n",
      " 28  Ratings_Rotten         11973 non-null  object \n",
      " 29  Ratings_Metacritic     10399 non-null  object \n",
      " 30  imdbVotes              12981 non-null  object \n",
      " 31  Type                   12999 non-null  object \n",
      " 32  DVD                    11560 non-null  object \n",
      " 33  BoxOffice              12966 non-null  object \n",
      " 34  Production             56 non-null     object \n",
      " 35  Website                1 non-null      object \n",
      " 36  Response               12999 non-null  object \n",
      "dtypes: float64(2), int64(1), object(34)\n",
      "memory usage: 3.7+ MB\n",
      "None\n"
     ]
    }
   ],
   "source": [
    "print(movie_data.info())"
   ]
  },
  {
   "cell_type": "code",
   "execution_count": 1300,
   "metadata": {},
   "outputs": [
    {
     "data": {
      "text/plain": [
       "imdbID                   0    \n",
       "TT URL                   0    \n",
       "Opening Revenue          0    \n",
       "RL URL                   0    \n",
       "Number of Theaters       0    \n",
       "tmdbID                   0    \n",
       "url                      0    \n",
       "budget                   32   \n",
       "original_title           32   \n",
       "title                    32   \n",
       "overview                 33   \n",
       "production_company       0    \n",
       "belongs_to_collection    0    \n",
       "omdb title               6    \n",
       "year                     6    \n",
       "Rated                    616  \n",
       "Released                 64   \n",
       "Runtime                  25   \n",
       "Genre                    24   \n",
       "Director                 33   \n",
       "Writer                   572  \n",
       "Actors                   83   \n",
       "Plot                     27   \n",
       "Language                 37   \n",
       "Country                  24   \n",
       "Awards                   2133 \n",
       "Poster                   24   \n",
       "Ratings_IMDB             26   \n",
       "Ratings_Rotten           1032 \n",
       "Ratings_Metacritic       2606 \n",
       "imdbVotes                24   \n",
       "Type                     6    \n",
       "DVD                      1445 \n",
       "BoxOffice                39   \n",
       "Production               12949\n",
       "Website                  13004\n",
       "Response                 6    \n",
       "dtype: int64"
      ]
     },
     "execution_count": 1300,
     "metadata": {},
     "output_type": "execute_result"
    }
   ],
   "source": [
    "#Look for null values\n",
    "movie_data.isnull().sum()"
   ]
  },
  {
   "cell_type": "markdown",
   "metadata": {},
   "source": [
    "The columns Writers, Awards, DVD, Production and Website are missing a lot of values. We will remove them from our analysis"
   ]
  },
  {
   "cell_type": "code",
   "execution_count": 1301,
   "metadata": {},
   "outputs": [],
   "source": [
    "movie_data.drop(['Writer','Awards', 'DVD','Production', 'Website'], axis=1, inplace=True)"
   ]
  },
  {
   "cell_type": "markdown",
   "metadata": {},
   "source": [
    "We are looking to predict domestic box office opening weekend revenue. Therefore we only want movies that were released in the United States. We will review the Country column to find movies only in the US."
   ]
  },
  {
   "cell_type": "code",
   "execution_count": 1302,
   "metadata": {},
   "outputs": [],
   "source": [
    "#Checks to see if United States is in Country. If it is return Yes if not return None\n",
    "def check_country(row):\n",
    "    if pd.notna(row['Country']): \n",
    "        if 'United States' in row['Country']:\n",
    "            return 'Yes'\n",
    "    return None    \n",
    "    \n",
    "movie_data['USA Released'] = movie_data.apply(check_country, axis=1)"
   ]
  },
  {
   "cell_type": "code",
   "execution_count": 1303,
   "metadata": {},
   "outputs": [
    {
     "data": {
      "text/plain": [
       "3397"
      ]
     },
     "execution_count": 1303,
     "metadata": {},
     "output_type": "execute_result"
    }
   ],
   "source": [
    "movie_data['USA Released'].isna().sum()"
   ]
  },
  {
   "cell_type": "markdown",
   "metadata": {},
   "source": [
    "Remove NA values from USA Relesead"
   ]
  },
  {
   "cell_type": "code",
   "execution_count": 1304,
   "metadata": {},
   "outputs": [],
   "source": [
    "movie_data.dropna(subset=['USA Released'], inplace=True)"
   ]
  },
  {
   "cell_type": "markdown",
   "metadata": {},
   "source": [
    "Need to change the columns Opening Revenue, Number of Theaters, Runtime, Ratings_IMDB, Ratings_Rotten and Ratings_Metacritic to be the correct data type"
   ]
  },
  {
   "cell_type": "code",
   "execution_count": 1305,
   "metadata": {},
   "outputs": [
    {
     "data": {
      "text/plain": [
       "0    $858,021   \n",
       "1    $4,001,890 \n",
       "2    $45,264    \n",
       "3    $53,985    \n",
       "4    $151,750   \n",
       "Name: Opening Revenue, dtype: object"
      ]
     },
     "execution_count": 1305,
     "metadata": {},
     "output_type": "execute_result"
    }
   ],
   "source": [
    "#Need to remove dollar signs and commas and make integers from opening revenue\n",
    "movie_data['Opening Revenue'].head(5)"
   ]
  },
  {
   "cell_type": "code",
   "execution_count": 1306,
   "metadata": {},
   "outputs": [],
   "source": [
    "movie_data['Opening Revenue'] = movie_data['Opening Revenue'].str.replace('[$,]', '', regex=True).astype(float)"
   ]
  },
  {
   "cell_type": "code",
   "execution_count": 1307,
   "metadata": {},
   "outputs": [],
   "source": [
    "#Need to change number of theaters to int\n",
    "movie_data['Number of Theaters'] = movie_data['Number of Theaters'].str.replace('[,]', '', regex=True).astype(int)"
   ]
  },
  {
   "cell_type": "code",
   "execution_count": 1308,
   "metadata": {},
   "outputs": [
    {
     "data": {
      "text/plain": [
       "0    170 min\n",
       "1    143 min\n",
       "2    118 min\n",
       "3    87 min \n",
       "4    109 min\n",
       "Name: Runtime, dtype: object"
      ]
     },
     "execution_count": 1308,
     "metadata": {},
     "output_type": "execute_result"
    }
   ],
   "source": [
    "#Change runtime to float\n",
    "movie_data['Runtime'].head(5)"
   ]
  },
  {
   "cell_type": "code",
   "execution_count": 1309,
   "metadata": {},
   "outputs": [],
   "source": [
    "movie_data['Runtime'] = movie_data['Runtime'].str.replace('min', '', regex=True).astype(float)"
   ]
  },
  {
   "cell_type": "code",
   "execution_count": 1310,
   "metadata": {},
   "outputs": [
    {
     "data": {
      "text/plain": [
       "0    7.5/10\n",
       "1    7.2/10\n",
       "2    6.7/10\n",
       "3    7.2/10\n",
       "4    6.5/10\n",
       "Name: Ratings_IMDB, dtype: object"
      ]
     },
     "execution_count": 1310,
     "metadata": {},
     "output_type": "execute_result"
    }
   ],
   "source": [
    "#Convert Ratings_IMDB to float\n",
    "movie_data['Ratings_IMDB'].head(5)"
   ]
  },
  {
   "cell_type": "code",
   "execution_count": 1311,
   "metadata": {},
   "outputs": [],
   "source": [
    "#Converts IMDB rating to a percentage\n",
    "def fix_IMDB_ratings(row):\n",
    "    if pd.notna(row['Ratings_IMDB']): \n",
    "        return round(float(row['Ratings_IMDB'].split('/')[0])*10/100,4)\n",
    "    \n",
    "movie_data['Ratings_IMDB'] = movie_data.apply(fix_IMDB_ratings, axis=1)"
   ]
  },
  {
   "cell_type": "code",
   "execution_count": 1312,
   "metadata": {},
   "outputs": [
    {
     "data": {
      "text/plain": [
       "0    86%\n",
       "1    33%\n",
       "2    42%\n",
       "3    88%\n",
       "4    82%\n",
       "Name: Ratings_Rotten, dtype: object"
      ]
     },
     "execution_count": 1312,
     "metadata": {},
     "output_type": "execute_result"
    }
   ],
   "source": [
    "#Convert Ratings_Rotten to float\n",
    "movie_data['Ratings_Rotten'].head(5)"
   ]
  },
  {
   "cell_type": "code",
   "execution_count": 1313,
   "metadata": {},
   "outputs": [],
   "source": [
    "movie_data['Ratings_Rotten'] = movie_data['Ratings_Rotten'].str.replace('%', '', regex=True).astype(float)"
   ]
  },
  {
   "cell_type": "code",
   "execution_count": 1314,
   "metadata": {},
   "outputs": [],
   "source": [
    "#Now need to divide by 100 to get into decimal format\n",
    "movie_data['Ratings_Rotten'] = movie_data['Ratings_Rotten'] /100"
   ]
  },
  {
   "cell_type": "code",
   "execution_count": 1315,
   "metadata": {},
   "outputs": [
    {
     "data": {
      "text/plain": [
       "0    77/100\n",
       "1    40/100\n",
       "2    46/100\n",
       "3    72/100\n",
       "4    66/100\n",
       "Name: Ratings_Metacritic, dtype: object"
      ]
     },
     "execution_count": 1315,
     "metadata": {},
     "output_type": "execute_result"
    }
   ],
   "source": [
    "#Change meta critic to float\n",
    "movie_data['Ratings_Metacritic'].head(5)"
   ]
  },
  {
   "cell_type": "code",
   "execution_count": 1316,
   "metadata": {},
   "outputs": [],
   "source": [
    "#Can use same logic as IMDB to get in float format\n",
    "def fix_META_ratings(row):\n",
    "    if pd.notna(row['Ratings_Metacritic']): \n",
    "        return round(float(row['Ratings_Metacritic'].split('/')[0])*10/100,4)\n",
    "movie_data['Ratings_Metacritic'] = movie_data.apply(fix_META_ratings, axis=1)"
   ]
  },
  {
   "cell_type": "markdown",
   "metadata": {},
   "source": [
    "Since the movies are all from different years we need to change the revenue to today's dollars. We will use the CPI to do this. Will need to split out month and year into different fields. Then apply the formula Opening Weekend Revenue x ending period CPI / Beginning period CPI "
   ]
  },
  {
   "cell_type": "code",
   "execution_count": 1317,
   "metadata": {},
   "outputs": [],
   "source": [
    "#Create month field\n",
    "def get_month(row):\n",
    "    if pd.notna(row['Released']): \n",
    "        return int(row['Released'].split('/')[0])\n",
    "movie_data['Month'] = movie_data.apply(get_month, axis=1)\n"
   ]
  },
  {
   "cell_type": "code",
   "execution_count": 1318,
   "metadata": {},
   "outputs": [],
   "source": [
    "#Create Year field\n",
    "def get_year(row):\n",
    "    if pd.notna(row['Released']): \n",
    "        return int(row['Released'].split('/')[2])\n",
    "movie_data['Released Year'] = movie_data.apply(get_year, axis=1)\n"
   ]
  },
  {
   "cell_type": "code",
   "execution_count": 1319,
   "metadata": {},
   "outputs": [],
   "source": [
    "movie_data['Ending CPI'] = CPI_data['9'].max()\n",
    "\n",
    "def get_Beg_CPI(row):\n",
    "    for indexs, rows in CPI_data.iterrows():\n",
    "        if rows['Year'] == row['Released Year']:\n",
    "            return rows[int(row['Month'])]\n",
    "\n",
    "movie_data['Beg CPI'] = movie_data.apply(get_Beg_CPI, axis=1)"
   ]
  },
  {
   "cell_type": "code",
   "execution_count": 1320,
   "metadata": {},
   "outputs": [],
   "source": [
    "#Adjusted Revenue\n",
    "movie_data['Adjusted_Opening_Weekend_Revenue'] = movie_data['Opening Revenue'] * movie_data['Ending CPI'] / movie_data['Beg CPI']"
   ]
  },
  {
   "cell_type": "code",
   "execution_count": 1321,
   "metadata": {},
   "outputs": [],
   "source": [
    "#Drop CPI values as not need any more along with opening revenue since we have calculated the correct value for it\n",
    "movie_data.drop(['Ending CPI' ,'Beg CPI', 'Opening Revenue'], axis=1, inplace=True)"
   ]
  },
  {
   "cell_type": "code",
   "execution_count": 1322,
   "metadata": {},
   "outputs": [
    {
     "data": {
      "image/png": "[encoded data removed]",
      "text/plain": [
       "<Figure size 1000x600 with 2 Axes>"
      ]
     },
     "metadata": {},
     "output_type": "display_data"
    }
   ],
   "source": [
    "correlation_matrix = movie_data.corr(numeric_only=True)\n",
    "plt.figure(figsize=(10, 6))\n",
    "sns.heatmap(correlation_matrix, cmap= 'magma', annot=True, fmt=\".2f\")\n",
    "plt.title('Correlation Heatmap')\n",
    "plt.show()"
   ]
  },
  {
   "cell_type": "markdown",
   "metadata": {},
   "source": [
    "We see a high correlation between Ratings_IMDB, Ratings_Rotten and Ratings_Metacritic. This is not a surprise since they are all rating systems. Since, Ratings_IMDB has the best correlation with adjusted opening weekend revenue (the variable we will try to predict) we will use this and drop the other two."
   ]
  },
  {
   "cell_type": "code",
   "execution_count": 1323,
   "metadata": {},
   "outputs": [],
   "source": [
    "movie_data.drop(['Ratings_Rotten', 'Ratings_Metacritic'], axis=1, inplace=True)"
   ]
  },
  {
   "cell_type": "code",
   "execution_count": 1324,
   "metadata": {},
   "outputs": [
    {
     "data": {
      "text/plain": [
       "<Axes: >"
      ]
     },
     "execution_count": 1324,
     "metadata": {},
     "output_type": "execute_result"
    },
    {
     "data": {
      "image/png": "[encoded data removed]",
      "text/plain": [
       "<Figure size 640x480 with 1 Axes>"
      ]
     },
     "metadata": {},
     "output_type": "display_data"
    }
   ],
   "source": [
    "movie_data['Adjusted_Opening_Weekend_Revenue'].hist()"
   ]
  },
  {
   "cell_type": "markdown",
   "metadata": {},
   "source": [
    "Review dataframe for null values"
   ]
  },
  {
   "cell_type": "code",
   "execution_count": 1325,
   "metadata": {},
   "outputs": [
    {
     "data": {
      "text/plain": [
       "imdbID                              0  \n",
       "TT URL                              0  \n",
       "RL URL                              0  \n",
       "Number of Theaters                  0  \n",
       "tmdbID                              0  \n",
       "url                                 0  \n",
       "budget                              17 \n",
       "original_title                      17 \n",
       "title                               17 \n",
       "overview                            18 \n",
       "production_company                  0  \n",
       "belongs_to_collection               0  \n",
       "omdb title                          0  \n",
       "year                                0  \n",
       "Rated                               197\n",
       "Released                            19 \n",
       "Runtime                             1  \n",
       "Genre                               0  \n",
       "Director                            2  \n",
       "Actors                              40 \n",
       "Plot                                1  \n",
       "Language                            9  \n",
       "Country                             0  \n",
       "Poster                              0  \n",
       "Ratings_IMDB                        2  \n",
       "imdbVotes                           0  \n",
       "Type                                0  \n",
       "BoxOffice                           3  \n",
       "Response                            0  \n",
       "USA Released                        0  \n",
       "Month                               19 \n",
       "Released Year                       19 \n",
       "Adjusted_Opening_Weekend_Revenue    19 \n",
       "dtype: int64"
      ]
     },
     "execution_count": 1325,
     "metadata": {},
     "output_type": "execute_result"
    }
   ],
   "source": [
    "movie_data.isna().sum()"
   ]
  },
  {
   "cell_type": "markdown",
   "metadata": {},
   "source": [
    "The column Rated has 197 missing values. We will drop Those rows and see how many missing values we have after."
   ]
  },
  {
   "cell_type": "code",
   "execution_count": 1326,
   "metadata": {},
   "outputs": [],
   "source": [
    "movie_data.dropna(subset=['Rated'],inplace=True)"
   ]
  },
  {
   "cell_type": "code",
   "execution_count": 1327,
   "metadata": {},
   "outputs": [
    {
     "data": {
      "text/plain": [
       "imdbID                              0 \n",
       "TT URL                              0 \n",
       "RL URL                              0 \n",
       "Number of Theaters                  0 \n",
       "tmdbID                              0 \n",
       "url                                 0 \n",
       "budget                              15\n",
       "original_title                      15\n",
       "title                               15\n",
       "overview                            16\n",
       "production_company                  0 \n",
       "belongs_to_collection               0 \n",
       "omdb title                          0 \n",
       "year                                0 \n",
       "Rated                               0 \n",
       "Released                            18\n",
       "Runtime                             0 \n",
       "Genre                               0 \n",
       "Director                            2 \n",
       "Actors                              33\n",
       "Plot                                0 \n",
       "Language                            6 \n",
       "Country                             0 \n",
       "Poster                              0 \n",
       "Ratings_IMDB                        2 \n",
       "imdbVotes                           0 \n",
       "Type                                0 \n",
       "BoxOffice                           3 \n",
       "Response                            0 \n",
       "USA Released                        0 \n",
       "Month                               18\n",
       "Released Year                       18\n",
       "Adjusted_Opening_Weekend_Revenue    18\n",
       "dtype: int64"
      ]
     },
     "execution_count": 1327,
     "metadata": {},
     "output_type": "execute_result"
    }
   ],
   "source": [
    "movie_data.isna().sum()"
   ]
  },
  {
   "cell_type": "markdown",
   "metadata": {},
   "source": [
    "We will now drop all rows that have NAs"
   ]
  },
  {
   "cell_type": "code",
   "execution_count": 1328,
   "metadata": {},
   "outputs": [],
   "source": [
    "movie_data.dropna(inplace=True)"
   ]
  },
  {
   "cell_type": "code",
   "execution_count": 1329,
   "metadata": {},
   "outputs": [
    {
     "data": {
      "text/plain": [
       "imdbID                              0\n",
       "TT URL                              0\n",
       "RL URL                              0\n",
       "Number of Theaters                  0\n",
       "tmdbID                              0\n",
       "url                                 0\n",
       "budget                              0\n",
       "original_title                      0\n",
       "title                               0\n",
       "overview                            0\n",
       "production_company                  0\n",
       "belongs_to_collection               0\n",
       "omdb title                          0\n",
       "year                                0\n",
       "Rated                               0\n",
       "Released                            0\n",
       "Runtime                             0\n",
       "Genre                               0\n",
       "Director                            0\n",
       "Actors                              0\n",
       "Plot                                0\n",
       "Language                            0\n",
       "Country                             0\n",
       "Poster                              0\n",
       "Ratings_IMDB                        0\n",
       "imdbVotes                           0\n",
       "Type                                0\n",
       "BoxOffice                           0\n",
       "Response                            0\n",
       "USA Released                        0\n",
       "Month                               0\n",
       "Released Year                       0\n",
       "Adjusted_Opening_Weekend_Revenue    0\n",
       "dtype: int64"
      ]
     },
     "execution_count": 1329,
     "metadata": {},
     "output_type": "execute_result"
    }
   ],
   "source": [
    "movie_data.isna().sum()"
   ]
  },
  {
   "cell_type": "code",
   "execution_count": 1330,
   "metadata": {},
   "outputs": [
    {
     "name": "stdout",
     "output_type": "stream",
     "text": [
      "<class 'pandas.core.frame.DataFrame'>\n",
      "Int64Index: 9335 entries, 0 to 13004\n",
      "Data columns (total 33 columns):\n",
      " #   Column                            Non-Null Count  Dtype  \n",
      "---  ------                            --------------  -----  \n",
      " 0   imdbID                            9335 non-null   object \n",
      " 1   TT URL                            9335 non-null   object \n",
      " 2   RL URL                            9335 non-null   object \n",
      " 3   Number of Theaters                9335 non-null   int32  \n",
      " 4   tmdbID                            9335 non-null   int64  \n",
      " 5   url                               9335 non-null   object \n",
      " 6   budget                            9335 non-null   float64\n",
      " 7   original_title                    9335 non-null   object \n",
      " 8   title                             9335 non-null   object \n",
      " 9   overview                          9335 non-null   object \n",
      " 10  production_company                9335 non-null   object \n",
      " 11  belongs_to_collection             9335 non-null   object \n",
      " 12  omdb title                        9335 non-null   object \n",
      " 13  year                              9335 non-null   float64\n",
      " 14  Rated                             9335 non-null   object \n",
      " 15  Released                          9335 non-null   object \n",
      " 16  Runtime                           9335 non-null   float64\n",
      " 17  Genre                             9335 non-null   object \n",
      " 18  Director                          9335 non-null   object \n",
      " 19  Actors                            9335 non-null   object \n",
      " 20  Plot                              9335 non-null   object \n",
      " 21  Language                          9335 non-null   object \n",
      " 22  Country                           9335 non-null   object \n",
      " 23  Poster                            9335 non-null   object \n",
      " 24  Ratings_IMDB                      9335 non-null   float64\n",
      " 25  imdbVotes                         9335 non-null   object \n",
      " 26  Type                              9335 non-null   object \n",
      " 27  BoxOffice                         9335 non-null   object \n",
      " 28  Response                          9335 non-null   object \n",
      " 29  USA Released                      9335 non-null   object \n",
      " 30  Month                             9335 non-null   float64\n",
      " 31  Released Year                     9335 non-null   float64\n",
      " 32  Adjusted_Opening_Weekend_Revenue  9335 non-null   float64\n",
      "dtypes: float64(7), int32(1), int64(1), object(24)\n",
      "memory usage: 2.4+ MB\n"
     ]
    }
   ],
   "source": [
    "movie_data.info()"
   ]
  },
  {
   "cell_type": "code",
   "execution_count": 1331,
   "metadata": {},
   "outputs": [],
   "source": [
    "#Make year and month be type integer\n",
    "movie_data['Released Year'] = movie_data['Released Year'].astype(int)\n",
    "movie_data['Month'] = movie_data['Month'].astype(int)"
   ]
  },
  {
   "cell_type": "code",
   "execution_count": 1332,
   "metadata": {},
   "outputs": [
    {
     "data": {
      "image/png": "[encoded data removed]",
      "text/plain": [
       "<Figure size 1500x500 with 1 Axes>"
      ]
     },
     "metadata": {},
     "output_type": "display_data"
    }
   ],
   "source": [
    "plt.figure(figsize = (15,5))\n",
    "sns.barplot(x='Month', y='Month', data=movie_data, errorbar = None, estimator = 'count')\n",
    "plt.title('Number of Movies Relased by Month')\n",
    "plt.grid(axis='y')\n",
    "plt.xlabel('Month')\n",
    "plt.ylabel('Number of Movies')\n",
    "plt.show()"
   ]
  },
  {
   "cell_type": "markdown",
   "metadata": {},
   "source": [
    "Based on the bar graph above we notice the May, June, July and December have the least amount of movies released historically. Where October have the most. "
   ]
  },
  {
   "cell_type": "code",
   "execution_count": 1333,
   "metadata": {},
   "outputs": [
    {
     "data": {
      "image/png": "[encoded data removed]",
      "text/plain": [
       "<Figure size 1500x500 with 1 Axes>"
      ]
     },
     "metadata": {},
     "output_type": "display_data"
    }
   ],
   "source": [
    "plt.figure(figsize = (15,5))\n",
    "sns.barplot(x='Released Year', y='Released Year', data=movie_data, errorbar = None, estimator = 'count')\n",
    "plt.title('Number of Movies Relased by Year')\n",
    "plt.xticks(rotation=90)\n",
    "plt.grid(axis='y')\n",
    "plt.xlabel('Year')\n",
    "plt.ylabel('Number of Movies')\n",
    "plt.show()"
   ]
  },
  {
   "cell_type": "code",
   "execution_count": 1334,
   "metadata": {},
   "outputs": [
    {
     "data": {
      "image/png": "[encoded data removed]",
      "text/plain": [
       "<Figure size 1500x500 with 1 Axes>"
      ]
     },
     "metadata": {},
     "output_type": "display_data"
    }
   ],
   "source": [
    "#pivot_avg = movie_data.pivot_table(index='Released Year', values='Number of Theaters', aggfunc='mean')\n",
    "#pivot_avg.reset_index(inplace=True)\n",
    "plt.figure(figsize = (15,5))\n",
    "sns.barplot(x='Released Year', y='Number of Theaters', data=movie_data, errorbar = None, estimator ='mean')\n",
    "plt.title('Average Number of Theaters Movies Were Released in by Year')\n",
    "plt.xticks(rotation=90)\n",
    "plt.grid(axis='y')\n",
    "plt.xlabel('Year')\n",
    "plt.ylabel('Average Number of Theaters')\n",
    "plt.show()"
   ]
  },
  {
   "cell_type": "markdown",
   "metadata": {},
   "source": [
    "As time has gone on we have seen an increase in the number of movies released each year. Our data set is not capturing all movies released past 2019, therefore we don't want to put any weight of time. We can use the two graphs above to get a better picture of when movies started to become more popular. The first graph shows that 1979 is when we see an increase in movies being released. This roughly lines up with the average number of movie theaters a movie was released in as we see an uptick starting in 1976. When we compare the number of movies released in 1976, 1977 and 1978 we don't see that there were a lot of movies released, but they were released to a lot of movie theaters. Therefore we are going to remove any movies released prior to 1976."
   ]
  },
  {
   "cell_type": "code",
   "execution_count": 1335,
   "metadata": {},
   "outputs": [],
   "source": [
    "movie_data = movie_data[movie_data['Released Year'] > 1975]"
   ]
  },
  {
   "cell_type": "code",
   "execution_count": 1336,
   "metadata": {},
   "outputs": [
    {
     "data": {
      "image/png": "[encoded data removed]",
      "text/plain": [
       "<Figure size 1500x500 with 1 Axes>"
      ]
     },
     "metadata": {},
     "output_type": "display_data"
    }
   ],
   "source": [
    "plt.figure(figsize = (15,5))\n",
    "sns.barplot(x='Rated', y='Released Year', data=movie_data, errorbar = None, estimator = 'count')\n",
    "plt.title('Number of Movies by Rating')\n",
    "plt.xticks(rotation=90)\n",
    "plt.grid(axis='y')\n",
    "plt.xlabel('Rating')\n",
    "plt.ylabel('Number of Movies')\n",
    "plt.show()"
   ]
  },
  {
   "cell_type": "markdown",
   "metadata": {},
   "source": [
    "Since we are only looking at movies we will want to remove any rating that is not part of the US movie rating system. Therefore we will only include ratings that are G, PG, PG-13 and R."
   ]
  },
  {
   "cell_type": "code",
   "execution_count": 1337,
   "metadata": {},
   "outputs": [
    {
     "data": {
      "text/html": [
       "<div>\n",
       "<style scoped>\n",
       "    .dataframe tbody tr th:only-of-type {\n",
       "        vertical-align: middle;\n",
       "    }\n",
       "\n",
       "    .dataframe tbody tr th {\n",
       "        vertical-align: top;\n",
       "    }\n",
       "\n",
       "    .dataframe thead th {\n",
       "        text-align: right;\n",
       "    }\n",
       "</style>\n",
       "<table border=\"1\" class=\"dataframe\">\n",
       "  <thead>\n",
       "    <tr style=\"text-align: right;\">\n",
       "      <th></th>\n",
       "      <th>Rated</th>\n",
       "      <th>Released Year</th>\n",
       "    </tr>\n",
       "  </thead>\n",
       "  <tbody>\n",
       "    <tr>\n",
       "      <th>0</th>\n",
       "      <td>13+</td>\n",
       "      <td>1</td>\n",
       "    </tr>\n",
       "    <tr>\n",
       "      <th>1</th>\n",
       "      <td>16+</td>\n",
       "      <td>1</td>\n",
       "    </tr>\n",
       "    <tr>\n",
       "      <th>2</th>\n",
       "      <td>18+</td>\n",
       "      <td>1</td>\n",
       "    </tr>\n",
       "    <tr>\n",
       "      <th>3</th>\n",
       "      <td>Approved</td>\n",
       "      <td>1</td>\n",
       "    </tr>\n",
       "    <tr>\n",
       "      <th>4</th>\n",
       "      <td>G</td>\n",
       "      <td>198</td>\n",
       "    </tr>\n",
       "    <tr>\n",
       "      <th>5</th>\n",
       "      <td>NC-17</td>\n",
       "      <td>15</td>\n",
       "    </tr>\n",
       "    <tr>\n",
       "      <th>6</th>\n",
       "      <td>Not Rated</td>\n",
       "      <td>645</td>\n",
       "    </tr>\n",
       "    <tr>\n",
       "      <th>7</th>\n",
       "      <td>PG</td>\n",
       "      <td>1446</td>\n",
       "    </tr>\n",
       "    <tr>\n",
       "      <th>8</th>\n",
       "      <td>PG-13</td>\n",
       "      <td>2553</td>\n",
       "    </tr>\n",
       "    <tr>\n",
       "      <th>9</th>\n",
       "      <td>R</td>\n",
       "      <td>4196</td>\n",
       "    </tr>\n",
       "    <tr>\n",
       "      <th>10</th>\n",
       "      <td>TV-14</td>\n",
       "      <td>26</td>\n",
       "    </tr>\n",
       "    <tr>\n",
       "      <th>11</th>\n",
       "      <td>TV-G</td>\n",
       "      <td>3</td>\n",
       "    </tr>\n",
       "    <tr>\n",
       "      <th>12</th>\n",
       "      <td>TV-MA</td>\n",
       "      <td>37</td>\n",
       "    </tr>\n",
       "    <tr>\n",
       "      <th>13</th>\n",
       "      <td>TV-PG</td>\n",
       "      <td>14</td>\n",
       "    </tr>\n",
       "    <tr>\n",
       "      <th>14</th>\n",
       "      <td>TV-Y7</td>\n",
       "      <td>1</td>\n",
       "    </tr>\n",
       "    <tr>\n",
       "      <th>15</th>\n",
       "      <td>Unrated</td>\n",
       "      <td>169</td>\n",
       "    </tr>\n",
       "    <tr>\n",
       "      <th>16</th>\n",
       "      <td>X</td>\n",
       "      <td>1</td>\n",
       "    </tr>\n",
       "  </tbody>\n",
       "</table>\n",
       "</div>"
      ],
      "text/plain": [
       "        Rated  Released Year\n",
       "0   13+        1            \n",
       "1   16+        1            \n",
       "2   18+        1            \n",
       "3   Approved   1            \n",
       "4   G          198          \n",
       "5   NC-17      15           \n",
       "6   Not Rated  645          \n",
       "7   PG         1446         \n",
       "8   PG-13      2553         \n",
       "9   R          4196         \n",
       "10  TV-14      26           \n",
       "11  TV-G       3            \n",
       "12  TV-MA      37           \n",
       "13  TV-PG      14           \n",
       "14  TV-Y7      1            \n",
       "15  Unrated    169          \n",
       "16  X          1            "
      ]
     },
     "execution_count": 1337,
     "metadata": {},
     "output_type": "execute_result"
    }
   ],
   "source": [
    "pivot_avg = movie_data.pivot_table(index='Rated', values='Released Year', aggfunc='count')\n",
    "pivot_avg.reset_index()"
   ]
  },
  {
   "cell_type": "code",
   "execution_count": 1338,
   "metadata": {},
   "outputs": [],
   "source": [
    "movie_data = movie_data[movie_data['Rated'].isin(['G', 'PG', 'PG-13', 'R'])]"
   ]
  },
  {
   "cell_type": "code",
   "execution_count": 1339,
   "metadata": {},
   "outputs": [
    {
     "data": {
      "text/html": [
       "<div>\n",
       "<style scoped>\n",
       "    .dataframe tbody tr th:only-of-type {\n",
       "        vertical-align: middle;\n",
       "    }\n",
       "\n",
       "    .dataframe tbody tr th {\n",
       "        vertical-align: top;\n",
       "    }\n",
       "\n",
       "    .dataframe thead th {\n",
       "        text-align: right;\n",
       "    }\n",
       "</style>\n",
       "<table border=\"1\" class=\"dataframe\">\n",
       "  <thead>\n",
       "    <tr style=\"text-align: right;\">\n",
       "      <th></th>\n",
       "      <th>Rated</th>\n",
       "      <th>Released Year</th>\n",
       "    </tr>\n",
       "  </thead>\n",
       "  <tbody>\n",
       "    <tr>\n",
       "      <th>0</th>\n",
       "      <td>G</td>\n",
       "      <td>198</td>\n",
       "    </tr>\n",
       "    <tr>\n",
       "      <th>1</th>\n",
       "      <td>PG</td>\n",
       "      <td>1446</td>\n",
       "    </tr>\n",
       "    <tr>\n",
       "      <th>2</th>\n",
       "      <td>PG-13</td>\n",
       "      <td>2553</td>\n",
       "    </tr>\n",
       "    <tr>\n",
       "      <th>3</th>\n",
       "      <td>R</td>\n",
       "      <td>4196</td>\n",
       "    </tr>\n",
       "  </tbody>\n",
       "</table>\n",
       "</div>"
      ],
      "text/plain": [
       "   Rated  Released Year\n",
       "0  G      198          \n",
       "1  PG     1446         \n",
       "2  PG-13  2553         \n",
       "3  R      4196         "
      ]
     },
     "execution_count": 1339,
     "metadata": {},
     "output_type": "execute_result"
    }
   ],
   "source": [
    "pivot_avg = movie_data.pivot_table(index='Rated', values='Released Year', aggfunc='count')\n",
    "pivot_avg.reset_index()"
   ]
  },
  {
   "cell_type": "markdown",
   "metadata": {},
   "source": [
    "Can compare to the pivot above and see that we still have the same number of G, PG, PG-13 and R rated movies."
   ]
  },
  {
   "cell_type": "markdown",
   "metadata": {},
   "source": [
    "Lets look at field belongs to collection"
   ]
  },
  {
   "cell_type": "code",
   "execution_count": 1340,
   "metadata": {},
   "outputs": [
    {
     "data": {
      "text/plain": [
       "0        None                                                                                                                                                         \n",
       "1        None                                                                                                                                                         \n",
       "2        None                                                                                                                                                         \n",
       "3        None                                                                                                                                                         \n",
       "4        None                                                                                                                                                         \n",
       "         ...                                                                                                                                                          \n",
       "13000    {'id': 93220, 'name': 'Miss Congeniality Collection', 'poster_path': '/sgpR7fZQRKRmIlx6MBGrf79HgW3.jpg', 'backdrop_path': '/7TIT28YbhAOeQGD2q2hJ9j83jI1.jpg'}\n",
       "13001    None                                                                                                                                                         \n",
       "13002    None                                                                                                                                                         \n",
       "13003    None                                                                                                                                                         \n",
       "13004    {'id': 115822, 'name': 'Dracula 2000 Collection', 'poster_path': '/pUEwGiauaZXUKTocXmzX7GlyYD4.jpg', 'backdrop_path': '/aD4nL9HsMDU8sCEAe7wdeHMiSr2.jpg'}    \n",
       "Name: belongs_to_collection, Length: 8393, dtype: object"
      ]
     },
     "execution_count": 1340,
     "metadata": {},
     "output_type": "execute_result"
    }
   ],
   "source": [
    "movie_data['belongs_to_collection']"
   ]
  },
  {
   "cell_type": "markdown",
   "metadata": {},
   "source": [
    "Let's extract out the name of the collection the movies belong to"
   ]
  },
  {
   "cell_type": "code",
   "execution_count": 1341,
   "metadata": {},
   "outputs": [],
   "source": [
    "def get_collection_name(row):\n",
    "    if row['belongs_to_collection'] != 'None': \n",
    "        try:\n",
    "            row_string = row['belongs_to_collection'].replace(\"'\", '\"')\n",
    "            str_to_json = json.loads(row_string)\n",
    "            return str_to_json.get('name')\n",
    "        except json.JSONDecodeError as e:\n",
    "            return None\n",
    "    return None\n",
    "\n",
    "movie_data['Collection Name'] = movie_data.apply(get_collection_name, axis=1)"
   ]
  },
  {
   "cell_type": "code",
   "execution_count": 1342,
   "metadata": {},
   "outputs": [
    {
     "data": {
      "text/plain": [
       "699"
      ]
     },
     "execution_count": 1342,
     "metadata": {},
     "output_type": "execute_result"
    }
   ],
   "source": [
    "unique_row_count = movie_data['Collection Name'].drop_duplicates().nunique()\n",
    "unique_row_count"
   ]
  },
  {
   "cell_type": "markdown",
   "metadata": {},
   "source": [
    "With almost 700 unique collections in stead of dummy coding all these to see if being in a specific collection helps we are going to see if being in a collection (Yes) vs not being in a collection (No) and see if that impacts our model"
   ]
  },
  {
   "cell_type": "code",
   "execution_count": 1343,
   "metadata": {},
   "outputs": [],
   "source": [
    "def get_in_collection(row):\n",
    "    if pd.notna(row['Collection Name']):\n",
    "        return 'Yes'\n",
    "    return 'No' \n",
    "\n",
    "movie_data['In Collection'] = movie_data.apply(get_in_collection, axis=1)"
   ]
  },
  {
   "cell_type": "code",
   "execution_count": 1344,
   "metadata": {},
   "outputs": [
    {
     "data": {
      "text/html": [
       "<div>\n",
       "<style scoped>\n",
       "    .dataframe tbody tr th:only-of-type {\n",
       "        vertical-align: middle;\n",
       "    }\n",
       "\n",
       "    .dataframe tbody tr th {\n",
       "        vertical-align: top;\n",
       "    }\n",
       "\n",
       "    .dataframe thead th {\n",
       "        text-align: right;\n",
       "    }\n",
       "</style>\n",
       "<table border=\"1\" class=\"dataframe\">\n",
       "  <thead>\n",
       "    <tr style=\"text-align: right;\">\n",
       "      <th></th>\n",
       "      <th>In Collection</th>\n",
       "      <th>Released Year</th>\n",
       "    </tr>\n",
       "  </thead>\n",
       "  <tbody>\n",
       "    <tr>\n",
       "      <th>0</th>\n",
       "      <td>No</td>\n",
       "      <td>7063</td>\n",
       "    </tr>\n",
       "    <tr>\n",
       "      <th>1</th>\n",
       "      <td>Yes</td>\n",
       "      <td>1330</td>\n",
       "    </tr>\n",
       "  </tbody>\n",
       "</table>\n",
       "</div>"
      ],
      "text/plain": [
       "  In Collection  Released Year\n",
       "0  No            7063         \n",
       "1  Yes           1330         "
      ]
     },
     "execution_count": 1344,
     "metadata": {},
     "output_type": "execute_result"
    }
   ],
   "source": [
    "pivot_avg = movie_data.pivot_table(index='In Collection', values='Released Year', aggfunc='count')\n",
    "pivot_avg.reset_index()"
   ]
  },
  {
   "cell_type": "markdown",
   "metadata": {},
   "source": [
    "Now lets take a look at the budget column and view the values"
   ]
  },
  {
   "cell_type": "code",
   "execution_count": 1345,
   "metadata": {},
   "outputs": [
    {
     "data": {
      "text/plain": [
       "count    8.393000e+03\n",
       "mean     2.289810e+07\n",
       "std      3.753649e+07\n",
       "min      0.000000e+00\n",
       "25%      0.000000e+00\n",
       "50%      8.500000e+06\n",
       "75%      3.000000e+07\n",
       "max      3.790000e+08\n",
       "Name: budget, dtype: float64"
      ]
     },
     "execution_count": 1345,
     "metadata": {},
     "output_type": "execute_result"
    }
   ],
   "source": [
    "movie_data['budget'].describe().T"
   ]
  },
  {
   "cell_type": "markdown",
   "metadata": {},
   "source": [
    "Looks like we have budget values of 0. We will want to remove those "
   ]
  },
  {
   "cell_type": "code",
   "execution_count": 1346,
   "metadata": {},
   "outputs": [
    {
     "data": {
      "text/plain": [
       "2944"
      ]
     },
     "execution_count": 1346,
     "metadata": {},
     "output_type": "execute_result"
    }
   ],
   "source": [
    "zero_budget_count = movie_data[movie_data['budget'] == 0]\n",
    "zero_budget_count['budget'].count()"
   ]
  },
  {
   "cell_type": "markdown",
   "metadata": {},
   "source": [
    "Remove zero budget columns"
   ]
  },
  {
   "cell_type": "code",
   "execution_count": 1347,
   "metadata": {},
   "outputs": [
    {
     "name": "stdout",
     "output_type": "stream",
     "text": [
      "<class 'pandas.core.frame.DataFrame'>\n",
      "Int64Index: 5449 entries, 0 to 13004\n",
      "Data columns (total 35 columns):\n",
      " #   Column                            Non-Null Count  Dtype  \n",
      "---  ------                            --------------  -----  \n",
      " 0   imdbID                            5449 non-null   object \n",
      " 1   TT URL                            5449 non-null   object \n",
      " 2   RL URL                            5449 non-null   object \n",
      " 3   Number of Theaters                5449 non-null   int32  \n",
      " 4   tmdbID                            5449 non-null   int64  \n",
      " 5   url                               5449 non-null   object \n",
      " 6   budget                            5449 non-null   float64\n",
      " 7   original_title                    5449 non-null   object \n",
      " 8   title                             5449 non-null   object \n",
      " 9   overview                          5449 non-null   object \n",
      " 10  production_company                5449 non-null   object \n",
      " 11  belongs_to_collection             5449 non-null   object \n",
      " 12  omdb title                        5449 non-null   object \n",
      " 13  year                              5449 non-null   float64\n",
      " 14  Rated                             5449 non-null   object \n",
      " 15  Released                          5449 non-null   object \n",
      " 16  Runtime                           5449 non-null   float64\n",
      " 17  Genre                             5449 non-null   object \n",
      " 18  Director                          5449 non-null   object \n",
      " 19  Actors                            5449 non-null   object \n",
      " 20  Plot                              5449 non-null   object \n",
      " 21  Language                          5449 non-null   object \n",
      " 22  Country                           5449 non-null   object \n",
      " 23  Poster                            5449 non-null   object \n",
      " 24  Ratings_IMDB                      5449 non-null   float64\n",
      " 25  imdbVotes                         5449 non-null   object \n",
      " 26  Type                              5449 non-null   object \n",
      " 27  BoxOffice                         5449 non-null   object \n",
      " 28  Response                          5449 non-null   object \n",
      " 29  USA Released                      5449 non-null   object \n",
      " 30  Month                             5449 non-null   int32  \n",
      " 31  Released Year                     5449 non-null   int32  \n",
      " 32  Adjusted_Opening_Weekend_Revenue  5449 non-null   float64\n",
      " 33  Collection Name                   1204 non-null   object \n",
      " 34  In Collection                     5449 non-null   object \n",
      "dtypes: float64(5), int32(3), int64(1), object(26)\n",
      "memory usage: 1.4+ MB\n"
     ]
    }
   ],
   "source": [
    "movie_data = movie_data[movie_data['budget'] > 0]\n",
    "movie_data.info()"
   ]
  },
  {
   "cell_type": "markdown",
   "metadata": {},
   "source": [
    "Let's look at genre column"
   ]
  },
  {
   "cell_type": "code",
   "execution_count": 1348,
   "metadata": {},
   "outputs": [
    {
     "data": {
      "text/plain": [
       "0        Biography, Drama        \n",
       "1        Drama, Musical, Romance \n",
       "2        Biography, Drama, Music \n",
       "5        Comedy, Romance         \n",
       "9        Comedy, Family, Fantasy \n",
       "                  ...            \n",
       "12998    Comedy, Drama, Fantasy  \n",
       "12999    Romance, Drama          \n",
       "13000    Action, Comedy, Crime   \n",
       "13001    Adventure, Comedy, Crime\n",
       "13004    Action, Fantasy, Horror \n",
       "Name: Genre, Length: 5449, dtype: object"
      ]
     },
     "execution_count": 1348,
     "metadata": {},
     "output_type": "execute_result"
    }
   ],
   "source": [
    "movie_data['Genre']"
   ]
  },
  {
   "cell_type": "markdown",
   "metadata": {},
   "source": [
    "Let's find all the uniqure genres"
   ]
  },
  {
   "cell_type": "code",
   "execution_count": 1349,
   "metadata": {},
   "outputs": [
    {
     "data": {
      "text/plain": [
       "{'Action',\n",
       " 'Adventure',\n",
       " 'Animation',\n",
       " 'Biography',\n",
       " 'Comedy',\n",
       " 'Crime',\n",
       " 'Documentary',\n",
       " 'Drama',\n",
       " 'Family',\n",
       " 'Fantasy',\n",
       " 'History',\n",
       " 'Horror',\n",
       " 'Music',\n",
       " 'Musical',\n",
       " 'Mystery',\n",
       " 'News',\n",
       " None,\n",
       " 'Romance',\n",
       " 'Sci-Fi',\n",
       " 'Sport',\n",
       " 'Thriller',\n",
       " 'War',\n",
       " 'Western'}"
      ]
     },
     "execution_count": 1349,
     "metadata": {},
     "output_type": "execute_result"
    }
   ],
   "source": [
    "genre_df = movie_data['Genre'].str.split(',', expand=True).apply(lambda x: x.str.strip())\n",
    "unique_genre = set()\n",
    "for index, row in genre_df.iterrows():\n",
    "        unique_genre.update(row)\n",
    "unique_genre"
   ]
  },
  {
   "cell_type": "markdown",
   "metadata": {},
   "source": [
    "We will remove None from the set of unique genres"
   ]
  },
  {
   "cell_type": "code",
   "execution_count": 1350,
   "metadata": {},
   "outputs": [
    {
     "data": {
      "text/plain": [
       "22"
      ]
     },
     "execution_count": 1350,
     "metadata": {},
     "output_type": "execute_result"
    }
   ],
   "source": [
    "unique_genre.discard(None)\n",
    "len(unique_genre)"
   ]
  },
  {
   "cell_type": "markdown",
   "metadata": {},
   "source": [
    "Make unique column per genre and put true if the movie is part of that genre and false if it is not"
   ]
  },
  {
   "cell_type": "code",
   "execution_count": 1351,
   "metadata": {},
   "outputs": [],
   "source": [
    "for i in sorted(unique_genre):\n",
    "    row_val = []\n",
    "    for index, row in movie_data.iterrows():\n",
    "        genre_split = row['Genre'].split(\",\")\n",
    "        if i in genre_split:\n",
    "            row_val += [True]\n",
    "        else:\n",
    "            row_val += [False]\n",
    "    movie_data[i] = row_val       "
   ]
  },
  {
   "cell_type": "code",
   "execution_count": 1352,
   "metadata": {},
   "outputs": [],
   "source": [
    "#Dropping unneeded columns\n",
    "movie_data_final = pd.DataFrame(movie_data.drop(columns=['imdbID', 'original_title', 'TT URL', 'RL URL' , 'tmdbID', 'url', 'title', 'overview', 'production_company','belongs_to_collection'\n",
    "                         ,'Collection Name', 'omdb title','year','Released', 'Plot', 'Poster', 'imdbVotes', 'Type', 'BoxOffice', 'Response'\n",
    "                         ,'Director', 'Actors', 'Language','Country', 'USA Released']).copy())"
   ]
  },
  {
   "cell_type": "code",
   "execution_count": 1353,
   "metadata": {},
   "outputs": [
    {
     "name": "stdout",
     "output_type": "stream",
     "text": [
      "<class 'pandas.core.frame.DataFrame'>\n",
      "Int64Index: 5449 entries, 0 to 13004\n",
      "Data columns (total 32 columns):\n",
      " #   Column                            Non-Null Count  Dtype  \n",
      "---  ------                            --------------  -----  \n",
      " 0   Number of Theaters                5449 non-null   int32  \n",
      " 1   budget                            5449 non-null   float64\n",
      " 2   Rated                             5449 non-null   object \n",
      " 3   Runtime                           5449 non-null   float64\n",
      " 4   Genre                             5449 non-null   object \n",
      " 5   Ratings_IMDB                      5449 non-null   float64\n",
      " 6   Month                             5449 non-null   int32  \n",
      " 7   Released Year                     5449 non-null   int32  \n",
      " 8   Adjusted_Opening_Weekend_Revenue  5449 non-null   float64\n",
      " 9   In Collection                     5449 non-null   object \n",
      " 10  Action                            5449 non-null   bool   \n",
      " 11  Adventure                         5449 non-null   bool   \n",
      " 12  Animation                         5449 non-null   bool   \n",
      " 13  Biography                         5449 non-null   bool   \n",
      " 14  Comedy                            5449 non-null   bool   \n",
      " 15  Crime                             5449 non-null   bool   \n",
      " 16  Documentary                       5449 non-null   bool   \n",
      " 17  Drama                             5449 non-null   bool   \n",
      " 18  Family                            5449 non-null   bool   \n",
      " 19  Fantasy                           5449 non-null   bool   \n",
      " 20  History                           5449 non-null   bool   \n",
      " 21  Horror                            5449 non-null   bool   \n",
      " 22  Music                             5449 non-null   bool   \n",
      " 23  Musical                           5449 non-null   bool   \n",
      " 24  Mystery                           5449 non-null   bool   \n",
      " 25  News                              5449 non-null   bool   \n",
      " 26  Romance                           5449 non-null   bool   \n",
      " 27  Sci-Fi                            5449 non-null   bool   \n",
      " 28  Sport                             5449 non-null   bool   \n",
      " 29  Thriller                          5449 non-null   bool   \n",
      " 30  War                               5449 non-null   bool   \n",
      " 31  Western                           5449 non-null   bool   \n",
      "dtypes: bool(22), float64(4), int32(3), object(3)\n",
      "memory usage: 521.5+ KB\n"
     ]
    }
   ],
   "source": [
    "movie_data_final.info()"
   ]
  },
  {
   "cell_type": "markdown",
   "metadata": {},
   "source": [
    "Show final correlation matrix"
   ]
  },
  {
   "cell_type": "code",
   "execution_count": 1354,
   "metadata": {},
   "outputs": [
    {
     "data": {
      "image/png": "[encoded data removed]",
      "text/plain": [
       "<Figure size 1000x600 with 2 Axes>"
      ]
     },
     "metadata": {},
     "output_type": "display_data"
    }
   ],
   "source": [
    "genre_cols = movie_data_final.select_dtypes(include=[np.number])\n",
    "correlation_matrix = genre_cols.corr(numeric_only=True)\n",
    "plt.figure(figsize=(10, 6))\n",
    "sns.heatmap(correlation_matrix, cmap= 'magma', annot=True, fmt=\".2f\")\n",
    "plt.title('Correlation Heatmap')\n",
    "plt.show()"
   ]
  },
  {
   "cell_type": "markdown",
   "metadata": {},
   "source": [
    "Based on the correlation matrix above, we see a high correlation with revenue and number of theaters. We also see a high correlation between budget and revenue."
   ]
  },
  {
   "cell_type": "markdown",
   "metadata": {},
   "source": [
    "Scale numerical features"
   ]
  },
  {
   "cell_type": "code",
   "execution_count": 1355,
   "metadata": {},
   "outputs": [
    {
     "data": {
      "text/html": [
       "<div>\n",
       "<style scoped>\n",
       "    .dataframe tbody tr th:only-of-type {\n",
       "        vertical-align: middle;\n",
       "    }\n",
       "\n",
       "    .dataframe tbody tr th {\n",
       "        vertical-align: top;\n",
       "    }\n",
       "\n",
       "    .dataframe thead th {\n",
       "        text-align: right;\n",
       "    }\n",
       "</style>\n",
       "<table border=\"1\" class=\"dataframe\">\n",
       "  <thead>\n",
       "    <tr style=\"text-align: right;\">\n",
       "      <th></th>\n",
       "      <th>Number of Theaters</th>\n",
       "      <th>budget</th>\n",
       "      <th>Rated</th>\n",
       "      <th>Runtime</th>\n",
       "      <th>Genre</th>\n",
       "      <th>Ratings_IMDB</th>\n",
       "      <th>Month</th>\n",
       "      <th>Released Year</th>\n",
       "      <th>Adjusted_Opening_Weekend_Revenue</th>\n",
       "      <th>In Collection</th>\n",
       "      <th>Action</th>\n",
       "      <th>Adventure</th>\n",
       "      <th>Animation</th>\n",
       "      <th>Biography</th>\n",
       "      <th>Comedy</th>\n",
       "      <th>Crime</th>\n",
       "      <th>Documentary</th>\n",
       "      <th>Drama</th>\n",
       "      <th>Family</th>\n",
       "      <th>Fantasy</th>\n",
       "      <th>History</th>\n",
       "      <th>Horror</th>\n",
       "      <th>Music</th>\n",
       "      <th>Musical</th>\n",
       "      <th>Mystery</th>\n",
       "      <th>News</th>\n",
       "      <th>Romance</th>\n",
       "      <th>Sci-Fi</th>\n",
       "      <th>Sport</th>\n",
       "      <th>Thriller</th>\n",
       "      <th>War</th>\n",
       "      <th>Western</th>\n",
       "    </tr>\n",
       "  </thead>\n",
       "  <tbody>\n",
       "    <tr>\n",
       "      <th>0</th>\n",
       "      <td>-1.261582</td>\n",
       "      <td>1.794805</td>\n",
       "      <td>PG-13</td>\n",
       "      <td>3.551029</td>\n",
       "      <td>Biography, Drama</td>\n",
       "      <td>1.212970</td>\n",
       "      <td>12</td>\n",
       "      <td>0.084042</td>\n",
       "      <td>-0.620862</td>\n",
       "      <td>No</td>\n",
       "      <td>False</td>\n",
       "      <td>False</td>\n",
       "      <td>False</td>\n",
       "      <td>True</td>\n",
       "      <td>False</td>\n",
       "      <td>False</td>\n",
       "      <td>False</td>\n",
       "      <td>False</td>\n",
       "      <td>False</td>\n",
       "      <td>False</td>\n",
       "      <td>False</td>\n",
       "      <td>False</td>\n",
       "      <td>False</td>\n",
       "      <td>False</td>\n",
       "      <td>False</td>\n",
       "      <td>False</td>\n",
       "      <td>False</td>\n",
       "      <td>False</td>\n",
       "      <td>False</td>\n",
       "      <td>False</td>\n",
       "      <td>False</td>\n",
       "      <td>False</td>\n",
       "    </tr>\n",
       "    <tr>\n",
       "      <th>1</th>\n",
       "      <td>-0.813804</td>\n",
       "      <td>0.834123</td>\n",
       "      <td>PG-13</td>\n",
       "      <td>2.024535</td>\n",
       "      <td>Drama, Musical, Romance</td>\n",
       "      <td>0.909016</td>\n",
       "      <td>1</td>\n",
       "      <td>0.181685</td>\n",
       "      <td>-0.445795</td>\n",
       "      <td>No</td>\n",
       "      <td>False</td>\n",
       "      <td>False</td>\n",
       "      <td>False</td>\n",
       "      <td>False</td>\n",
       "      <td>False</td>\n",
       "      <td>False</td>\n",
       "      <td>False</td>\n",
       "      <td>True</td>\n",
       "      <td>False</td>\n",
       "      <td>False</td>\n",
       "      <td>False</td>\n",
       "      <td>False</td>\n",
       "      <td>False</td>\n",
       "      <td>False</td>\n",
       "      <td>False</td>\n",
       "      <td>False</td>\n",
       "      <td>False</td>\n",
       "      <td>False</td>\n",
       "      <td>False</td>\n",
       "      <td>False</td>\n",
       "      <td>False</td>\n",
       "      <td>False</td>\n",
       "    </tr>\n",
       "    <tr>\n",
       "      <th>2</th>\n",
       "      <td>-1.287741</td>\n",
       "      <td>-0.246644</td>\n",
       "      <td>PG-13</td>\n",
       "      <td>0.611114</td>\n",
       "      <td>Biography, Drama, Music</td>\n",
       "      <td>0.402427</td>\n",
       "      <td>12</td>\n",
       "      <td>0.084042</td>\n",
       "      <td>-0.666242</td>\n",
       "      <td>No</td>\n",
       "      <td>False</td>\n",
       "      <td>False</td>\n",
       "      <td>False</td>\n",
       "      <td>True</td>\n",
       "      <td>False</td>\n",
       "      <td>False</td>\n",
       "      <td>False</td>\n",
       "      <td>False</td>\n",
       "      <td>False</td>\n",
       "      <td>False</td>\n",
       "      <td>False</td>\n",
       "      <td>False</td>\n",
       "      <td>False</td>\n",
       "      <td>False</td>\n",
       "      <td>False</td>\n",
       "      <td>False</td>\n",
       "      <td>False</td>\n",
       "      <td>False</td>\n",
       "      <td>False</td>\n",
       "      <td>False</td>\n",
       "      <td>False</td>\n",
       "      <td>False</td>\n",
       "    </tr>\n",
       "    <tr>\n",
       "      <th>5</th>\n",
       "      <td>1.414311</td>\n",
       "      <td>1.074294</td>\n",
       "      <td>PG-13</td>\n",
       "      <td>0.441504</td>\n",
       "      <td>Comedy, Romance</td>\n",
       "      <td>-0.002845</td>\n",
       "      <td>12</td>\n",
       "      <td>0.084042</td>\n",
       "      <td>1.906361</td>\n",
       "      <td>Yes</td>\n",
       "      <td>False</td>\n",
       "      <td>False</td>\n",
       "      <td>False</td>\n",
       "      <td>False</td>\n",
       "      <td>True</td>\n",
       "      <td>False</td>\n",
       "      <td>False</td>\n",
       "      <td>False</td>\n",
       "      <td>False</td>\n",
       "      <td>False</td>\n",
       "      <td>False</td>\n",
       "      <td>False</td>\n",
       "      <td>False</td>\n",
       "      <td>False</td>\n",
       "      <td>False</td>\n",
       "      <td>False</td>\n",
       "      <td>False</td>\n",
       "      <td>False</td>\n",
       "      <td>False</td>\n",
       "      <td>False</td>\n",
       "      <td>False</td>\n",
       "      <td>False</td>\n",
       "    </tr>\n",
       "    <tr>\n",
       "      <th>9</th>\n",
       "      <td>0.764957</td>\n",
       "      <td>-0.222627</td>\n",
       "      <td>PG</td>\n",
       "      <td>-0.802306</td>\n",
       "      <td>Comedy, Family, Fantasy</td>\n",
       "      <td>-1.927885</td>\n",
       "      <td>12</td>\n",
       "      <td>0.084042</td>\n",
       "      <td>-0.109225</td>\n",
       "      <td>No</td>\n",
       "      <td>False</td>\n",
       "      <td>False</td>\n",
       "      <td>False</td>\n",
       "      <td>False</td>\n",
       "      <td>True</td>\n",
       "      <td>False</td>\n",
       "      <td>False</td>\n",
       "      <td>False</td>\n",
       "      <td>False</td>\n",
       "      <td>False</td>\n",
       "      <td>False</td>\n",
       "      <td>False</td>\n",
       "      <td>False</td>\n",
       "      <td>False</td>\n",
       "      <td>False</td>\n",
       "      <td>False</td>\n",
       "      <td>False</td>\n",
       "      <td>False</td>\n",
       "      <td>False</td>\n",
       "      <td>False</td>\n",
       "      <td>False</td>\n",
       "      <td>False</td>\n",
       "    </tr>\n",
       "  </tbody>\n",
       "</table>\n",
       "</div>"
      ],
      "text/plain": [
       "   Number of Theaters    budget  Rated   Runtime                    Genre  \\\n",
       "0 -1.261582            1.794805  PG-13  3.551029  Biography, Drama          \n",
       "1 -0.813804            0.834123  PG-13  2.024535  Drama, Musical, Romance   \n",
       "2 -1.287741           -0.246644  PG-13  0.611114  Biography, Drama, Music   \n",
       "5  1.414311            1.074294  PG-13  0.441504  Comedy, Romance           \n",
       "9  0.764957           -0.222627  PG    -0.802306  Comedy, Family, Fantasy   \n",
       "\n",
       "   Ratings_IMDB  Month  Released Year  Adjusted_Opening_Weekend_Revenue  \\\n",
       "0  1.212970      12     0.084042      -0.620862                           \n",
       "1  0.909016      1      0.181685      -0.445795                           \n",
       "2  0.402427      12     0.084042      -0.666242                           \n",
       "5 -0.002845      12     0.084042       1.906361                           \n",
       "9 -1.927885      12     0.084042      -0.109225                           \n",
       "\n",
       "  In Collection  Action  Adventure  Animation  Biography  Comedy  Crime  \\\n",
       "0  No            False   False      False      True       False   False   \n",
       "1  No            False   False      False      False      False   False   \n",
       "2  No            False   False      False      True       False   False   \n",
       "5  Yes           False   False      False      False      True    False   \n",
       "9  No            False   False      False      False      True    False   \n",
       "\n",
       "   Documentary  Drama  Family  Fantasy  History  Horror  Music  Musical  \\\n",
       "0  False        False  False   False    False    False   False  False     \n",
       "1  False        True   False   False    False    False   False  False     \n",
       "2  False        False  False   False    False    False   False  False     \n",
       "5  False        False  False   False    False    False   False  False     \n",
       "9  False        False  False   False    False    False   False  False     \n",
       "\n",
       "   Mystery   News  Romance  Sci-Fi  Sport  Thriller    War  Western  \n",
       "0  False    False  False    False   False  False     False  False    \n",
       "1  False    False  False    False   False  False     False  False    \n",
       "2  False    False  False    False   False  False     False  False    \n",
       "5  False    False  False    False   False  False     False  False    \n",
       "9  False    False  False    False   False  False     False  False    "
      ]
     },
     "execution_count": 1355,
     "metadata": {},
     "output_type": "execute_result"
    }
   ],
   "source": [
    "numerical_cols = ['Number of Theaters' , 'budget', 'Runtime', 'Ratings_IMDB','Released Year', 'Adjusted_Opening_Weekend_Revenue']\n",
    "movie_data_final[numerical_cols] = StandardScaler().fit_transform(movie_data_final[numerical_cols])\n",
    "movie_data_final.head(5)"
   ]
  },
  {
   "cell_type": "markdown",
   "metadata": {},
   "source": [
    "Dummy code categorical variables. For this model we will consider month to be categorical."
   ]
  },
  {
   "cell_type": "code",
   "execution_count": 1356,
   "metadata": {},
   "outputs": [],
   "source": [
    "movie_data_final = pd.get_dummies(movie_data_final, columns=['Rated', 'Month', 'In Collection', 'Action', 'Adventure', 'Animation', 'Biography', 'Comedy',\n",
    " 'Crime', 'Documentary', 'Drama', 'Family', 'Fantasy', 'History', 'Horror', 'Music', 'Musical', 'Mystery', 'News', 'Romance', 'Sci-Fi', 'Sport', 'Thriller', 'War',\n",
    " 'Western'])"
   ]
  },
  {
   "cell_type": "code",
   "execution_count": 1357,
   "metadata": {},
   "outputs": [
    {
     "data": {
      "text/plain": [
       "(5449, 64)"
      ]
     },
     "execution_count": 1357,
     "metadata": {},
     "output_type": "execute_result"
    }
   ],
   "source": [
    "movie_data_final.shape"
   ]
  },
  {
   "cell_type": "markdown",
   "metadata": {},
   "source": [
    "Drope Genre column as not needed any more"
   ]
  },
  {
   "cell_type": "code",
   "execution_count": 1358,
   "metadata": {},
   "outputs": [],
   "source": [
    "movie_data_final.drop(columns=['Genre'], axis=1, inplace=True)"
   ]
  },
  {
   "cell_type": "markdown",
   "metadata": {},
   "source": [
    "Do train test split. We will do 80/20 split of data"
   ]
  },
  {
   "cell_type": "code",
   "execution_count": 1359,
   "metadata": {},
   "outputs": [
    {
     "name": "stdout",
     "output_type": "stream",
     "text": [
      "(4359, 62)\n",
      "(1090, 62)\n",
      "(4359, 1)\n",
      "(1090, 1)\n"
     ]
    }
   ],
   "source": [
    "df_x = pd.DataFrame(movie_data_final.drop(columns='Adjusted_Opening_Weekend_Revenue').copy())\n",
    "df_y= pd.DataFrame(movie_data_final['Adjusted_Opening_Weekend_Revenue'])\n",
    "\n",
    "X_train, X_test,y_train,y_test = train_test_split(df_x ,df_y, test_size= 0.20, random_state= rand_state)\n",
    "print(X_train.shape)\n",
    "print(X_test.shape)\n",
    "print(y_train.shape)\n",
    "print(y_test.shape)"
   ]
  },
  {
   "cell_type": "code",
   "execution_count": 1360,
   "metadata": {},
   "outputs": [
    {
     "data": {
      "text/html": [
       "<div>\n",
       "<style scoped>\n",
       "    .dataframe tbody tr th:only-of-type {\n",
       "        vertical-align: middle;\n",
       "    }\n",
       "\n",
       "    .dataframe tbody tr th {\n",
       "        vertical-align: top;\n",
       "    }\n",
       "\n",
       "    .dataframe thead th {\n",
       "        text-align: right;\n",
       "    }\n",
       "</style>\n",
       "<table border=\"1\" class=\"dataframe\">\n",
       "  <thead>\n",
       "    <tr style=\"text-align: right;\">\n",
       "      <th></th>\n",
       "      <th>Number of Theaters</th>\n",
       "      <th>budget</th>\n",
       "      <th>Runtime</th>\n",
       "      <th>Ratings_IMDB</th>\n",
       "      <th>Released Year</th>\n",
       "      <th>Rated_G</th>\n",
       "      <th>Rated_PG</th>\n",
       "      <th>Rated_PG-13</th>\n",
       "      <th>Rated_R</th>\n",
       "      <th>Month_1</th>\n",
       "      <th>Month_2</th>\n",
       "      <th>Month_3</th>\n",
       "      <th>Month_4</th>\n",
       "      <th>Month_5</th>\n",
       "      <th>Month_6</th>\n",
       "      <th>Month_7</th>\n",
       "      <th>Month_8</th>\n",
       "      <th>Month_9</th>\n",
       "      <th>Month_10</th>\n",
       "      <th>Month_11</th>\n",
       "      <th>Month_12</th>\n",
       "      <th>In Collection_No</th>\n",
       "      <th>In Collection_Yes</th>\n",
       "      <th>Action_False</th>\n",
       "      <th>Action_True</th>\n",
       "      <th>Adventure_False</th>\n",
       "      <th>Adventure_True</th>\n",
       "      <th>Animation_False</th>\n",
       "      <th>Animation_True</th>\n",
       "      <th>Biography_False</th>\n",
       "      <th>Biography_True</th>\n",
       "      <th>Comedy_False</th>\n",
       "      <th>Comedy_True</th>\n",
       "      <th>Crime_False</th>\n",
       "      <th>Crime_True</th>\n",
       "      <th>Documentary_False</th>\n",
       "      <th>Documentary_True</th>\n",
       "      <th>Drama_False</th>\n",
       "      <th>Drama_True</th>\n",
       "      <th>Family_False</th>\n",
       "      <th>Family_True</th>\n",
       "      <th>Fantasy_False</th>\n",
       "      <th>Fantasy_True</th>\n",
       "      <th>History_False</th>\n",
       "      <th>Horror_False</th>\n",
       "      <th>Horror_True</th>\n",
       "      <th>Music_False</th>\n",
       "      <th>Musical_False</th>\n",
       "      <th>Musical_True</th>\n",
       "      <th>Mystery_False</th>\n",
       "      <th>Mystery_True</th>\n",
       "      <th>News_False</th>\n",
       "      <th>Romance_False</th>\n",
       "      <th>Romance_True</th>\n",
       "      <th>Sci-Fi_False</th>\n",
       "      <th>Sci-Fi_True</th>\n",
       "      <th>Sport_False</th>\n",
       "      <th>Thriller_False</th>\n",
       "      <th>Thriller_True</th>\n",
       "      <th>War_False</th>\n",
       "      <th>War_True</th>\n",
       "      <th>Western_False</th>\n",
       "    </tr>\n",
       "  </thead>\n",
       "  <tbody>\n",
       "    <tr>\n",
       "      <th>0</th>\n",
       "      <td>-1.261582</td>\n",
       "      <td>1.794805</td>\n",
       "      <td>3.551029</td>\n",
       "      <td>1.212970</td>\n",
       "      <td>0.084042</td>\n",
       "      <td>0</td>\n",
       "      <td>0</td>\n",
       "      <td>1</td>\n",
       "      <td>0</td>\n",
       "      <td>0</td>\n",
       "      <td>0</td>\n",
       "      <td>0</td>\n",
       "      <td>0</td>\n",
       "      <td>0</td>\n",
       "      <td>0</td>\n",
       "      <td>0</td>\n",
       "      <td>0</td>\n",
       "      <td>0</td>\n",
       "      <td>0</td>\n",
       "      <td>0</td>\n",
       "      <td>1</td>\n",
       "      <td>1</td>\n",
       "      <td>0</td>\n",
       "      <td>1</td>\n",
       "      <td>0</td>\n",
       "      <td>1</td>\n",
       "      <td>0</td>\n",
       "      <td>1</td>\n",
       "      <td>0</td>\n",
       "      <td>0</td>\n",
       "      <td>1</td>\n",
       "      <td>1</td>\n",
       "      <td>0</td>\n",
       "      <td>1</td>\n",
       "      <td>0</td>\n",
       "      <td>1</td>\n",
       "      <td>0</td>\n",
       "      <td>1</td>\n",
       "      <td>0</td>\n",
       "      <td>1</td>\n",
       "      <td>0</td>\n",
       "      <td>1</td>\n",
       "      <td>0</td>\n",
       "      <td>1</td>\n",
       "      <td>1</td>\n",
       "      <td>0</td>\n",
       "      <td>1</td>\n",
       "      <td>1</td>\n",
       "      <td>0</td>\n",
       "      <td>1</td>\n",
       "      <td>0</td>\n",
       "      <td>1</td>\n",
       "      <td>1</td>\n",
       "      <td>0</td>\n",
       "      <td>1</td>\n",
       "      <td>0</td>\n",
       "      <td>1</td>\n",
       "      <td>1</td>\n",
       "      <td>0</td>\n",
       "      <td>1</td>\n",
       "      <td>0</td>\n",
       "      <td>1</td>\n",
       "    </tr>\n",
       "    <tr>\n",
       "      <th>1</th>\n",
       "      <td>-0.813804</td>\n",
       "      <td>0.834123</td>\n",
       "      <td>2.024535</td>\n",
       "      <td>0.909016</td>\n",
       "      <td>0.181685</td>\n",
       "      <td>0</td>\n",
       "      <td>0</td>\n",
       "      <td>1</td>\n",
       "      <td>0</td>\n",
       "      <td>1</td>\n",
       "      <td>0</td>\n",
       "      <td>0</td>\n",
       "      <td>0</td>\n",
       "      <td>0</td>\n",
       "      <td>0</td>\n",
       "      <td>0</td>\n",
       "      <td>0</td>\n",
       "      <td>0</td>\n",
       "      <td>0</td>\n",
       "      <td>0</td>\n",
       "      <td>0</td>\n",
       "      <td>1</td>\n",
       "      <td>0</td>\n",
       "      <td>1</td>\n",
       "      <td>0</td>\n",
       "      <td>1</td>\n",
       "      <td>0</td>\n",
       "      <td>1</td>\n",
       "      <td>0</td>\n",
       "      <td>1</td>\n",
       "      <td>0</td>\n",
       "      <td>1</td>\n",
       "      <td>0</td>\n",
       "      <td>1</td>\n",
       "      <td>0</td>\n",
       "      <td>1</td>\n",
       "      <td>0</td>\n",
       "      <td>0</td>\n",
       "      <td>1</td>\n",
       "      <td>1</td>\n",
       "      <td>0</td>\n",
       "      <td>1</td>\n",
       "      <td>0</td>\n",
       "      <td>1</td>\n",
       "      <td>1</td>\n",
       "      <td>0</td>\n",
       "      <td>1</td>\n",
       "      <td>1</td>\n",
       "      <td>0</td>\n",
       "      <td>1</td>\n",
       "      <td>0</td>\n",
       "      <td>1</td>\n",
       "      <td>1</td>\n",
       "      <td>0</td>\n",
       "      <td>1</td>\n",
       "      <td>0</td>\n",
       "      <td>1</td>\n",
       "      <td>1</td>\n",
       "      <td>0</td>\n",
       "      <td>1</td>\n",
       "      <td>0</td>\n",
       "      <td>1</td>\n",
       "    </tr>\n",
       "    <tr>\n",
       "      <th>2</th>\n",
       "      <td>-1.287741</td>\n",
       "      <td>-0.246644</td>\n",
       "      <td>0.611114</td>\n",
       "      <td>0.402427</td>\n",
       "      <td>0.084042</td>\n",
       "      <td>0</td>\n",
       "      <td>0</td>\n",
       "      <td>1</td>\n",
       "      <td>0</td>\n",
       "      <td>0</td>\n",
       "      <td>0</td>\n",
       "      <td>0</td>\n",
       "      <td>0</td>\n",
       "      <td>0</td>\n",
       "      <td>0</td>\n",
       "      <td>0</td>\n",
       "      <td>0</td>\n",
       "      <td>0</td>\n",
       "      <td>0</td>\n",
       "      <td>0</td>\n",
       "      <td>1</td>\n",
       "      <td>1</td>\n",
       "      <td>0</td>\n",
       "      <td>1</td>\n",
       "      <td>0</td>\n",
       "      <td>1</td>\n",
       "      <td>0</td>\n",
       "      <td>1</td>\n",
       "      <td>0</td>\n",
       "      <td>0</td>\n",
       "      <td>1</td>\n",
       "      <td>1</td>\n",
       "      <td>0</td>\n",
       "      <td>1</td>\n",
       "      <td>0</td>\n",
       "      <td>1</td>\n",
       "      <td>0</td>\n",
       "      <td>1</td>\n",
       "      <td>0</td>\n",
       "      <td>1</td>\n",
       "      <td>0</td>\n",
       "      <td>1</td>\n",
       "      <td>0</td>\n",
       "      <td>1</td>\n",
       "      <td>1</td>\n",
       "      <td>0</td>\n",
       "      <td>1</td>\n",
       "      <td>1</td>\n",
       "      <td>0</td>\n",
       "      <td>1</td>\n",
       "      <td>0</td>\n",
       "      <td>1</td>\n",
       "      <td>1</td>\n",
       "      <td>0</td>\n",
       "      <td>1</td>\n",
       "      <td>0</td>\n",
       "      <td>1</td>\n",
       "      <td>1</td>\n",
       "      <td>0</td>\n",
       "      <td>1</td>\n",
       "      <td>0</td>\n",
       "      <td>1</td>\n",
       "    </tr>\n",
       "    <tr>\n",
       "      <th>5</th>\n",
       "      <td>1.414311</td>\n",
       "      <td>1.074294</td>\n",
       "      <td>0.441504</td>\n",
       "      <td>-0.002845</td>\n",
       "      <td>0.084042</td>\n",
       "      <td>0</td>\n",
       "      <td>0</td>\n",
       "      <td>1</td>\n",
       "      <td>0</td>\n",
       "      <td>0</td>\n",
       "      <td>0</td>\n",
       "      <td>0</td>\n",
       "      <td>0</td>\n",
       "      <td>0</td>\n",
       "      <td>0</td>\n",
       "      <td>0</td>\n",
       "      <td>0</td>\n",
       "      <td>0</td>\n",
       "      <td>0</td>\n",
       "      <td>0</td>\n",
       "      <td>1</td>\n",
       "      <td>0</td>\n",
       "      <td>1</td>\n",
       "      <td>1</td>\n",
       "      <td>0</td>\n",
       "      <td>1</td>\n",
       "      <td>0</td>\n",
       "      <td>1</td>\n",
       "      <td>0</td>\n",
       "      <td>1</td>\n",
       "      <td>0</td>\n",
       "      <td>0</td>\n",
       "      <td>1</td>\n",
       "      <td>1</td>\n",
       "      <td>0</td>\n",
       "      <td>1</td>\n",
       "      <td>0</td>\n",
       "      <td>1</td>\n",
       "      <td>0</td>\n",
       "      <td>1</td>\n",
       "      <td>0</td>\n",
       "      <td>1</td>\n",
       "      <td>0</td>\n",
       "      <td>1</td>\n",
       "      <td>1</td>\n",
       "      <td>0</td>\n",
       "      <td>1</td>\n",
       "      <td>1</td>\n",
       "      <td>0</td>\n",
       "      <td>1</td>\n",
       "      <td>0</td>\n",
       "      <td>1</td>\n",
       "      <td>1</td>\n",
       "      <td>0</td>\n",
       "      <td>1</td>\n",
       "      <td>0</td>\n",
       "      <td>1</td>\n",
       "      <td>1</td>\n",
       "      <td>0</td>\n",
       "      <td>1</td>\n",
       "      <td>0</td>\n",
       "      <td>1</td>\n",
       "    </tr>\n",
       "    <tr>\n",
       "      <th>9</th>\n",
       "      <td>0.764957</td>\n",
       "      <td>-0.222627</td>\n",
       "      <td>-0.802306</td>\n",
       "      <td>-1.927885</td>\n",
       "      <td>0.084042</td>\n",
       "      <td>0</td>\n",
       "      <td>1</td>\n",
       "      <td>0</td>\n",
       "      <td>0</td>\n",
       "      <td>0</td>\n",
       "      <td>0</td>\n",
       "      <td>0</td>\n",
       "      <td>0</td>\n",
       "      <td>0</td>\n",
       "      <td>0</td>\n",
       "      <td>0</td>\n",
       "      <td>0</td>\n",
       "      <td>0</td>\n",
       "      <td>0</td>\n",
       "      <td>0</td>\n",
       "      <td>1</td>\n",
       "      <td>1</td>\n",
       "      <td>0</td>\n",
       "      <td>1</td>\n",
       "      <td>0</td>\n",
       "      <td>1</td>\n",
       "      <td>0</td>\n",
       "      <td>1</td>\n",
       "      <td>0</td>\n",
       "      <td>1</td>\n",
       "      <td>0</td>\n",
       "      <td>0</td>\n",
       "      <td>1</td>\n",
       "      <td>1</td>\n",
       "      <td>0</td>\n",
       "      <td>1</td>\n",
       "      <td>0</td>\n",
       "      <td>1</td>\n",
       "      <td>0</td>\n",
       "      <td>1</td>\n",
       "      <td>0</td>\n",
       "      <td>1</td>\n",
       "      <td>0</td>\n",
       "      <td>1</td>\n",
       "      <td>1</td>\n",
       "      <td>0</td>\n",
       "      <td>1</td>\n",
       "      <td>1</td>\n",
       "      <td>0</td>\n",
       "      <td>1</td>\n",
       "      <td>0</td>\n",
       "      <td>1</td>\n",
       "      <td>1</td>\n",
       "      <td>0</td>\n",
       "      <td>1</td>\n",
       "      <td>0</td>\n",
       "      <td>1</td>\n",
       "      <td>1</td>\n",
       "      <td>0</td>\n",
       "      <td>1</td>\n",
       "      <td>0</td>\n",
       "      <td>1</td>\n",
       "    </tr>\n",
       "    <tr>\n",
       "      <th>...</th>\n",
       "      <td>...</td>\n",
       "      <td>...</td>\n",
       "      <td>...</td>\n",
       "      <td>...</td>\n",
       "      <td>...</td>\n",
       "      <td>...</td>\n",
       "      <td>...</td>\n",
       "      <td>...</td>\n",
       "      <td>...</td>\n",
       "      <td>...</td>\n",
       "      <td>...</td>\n",
       "      <td>...</td>\n",
       "      <td>...</td>\n",
       "      <td>...</td>\n",
       "      <td>...</td>\n",
       "      <td>...</td>\n",
       "      <td>...</td>\n",
       "      <td>...</td>\n",
       "      <td>...</td>\n",
       "      <td>...</td>\n",
       "      <td>...</td>\n",
       "      <td>...</td>\n",
       "      <td>...</td>\n",
       "      <td>...</td>\n",
       "      <td>...</td>\n",
       "      <td>...</td>\n",
       "      <td>...</td>\n",
       "      <td>...</td>\n",
       "      <td>...</td>\n",
       "      <td>...</td>\n",
       "      <td>...</td>\n",
       "      <td>...</td>\n",
       "      <td>...</td>\n",
       "      <td>...</td>\n",
       "      <td>...</td>\n",
       "      <td>...</td>\n",
       "      <td>...</td>\n",
       "      <td>...</td>\n",
       "      <td>...</td>\n",
       "      <td>...</td>\n",
       "      <td>...</td>\n",
       "      <td>...</td>\n",
       "      <td>...</td>\n",
       "      <td>...</td>\n",
       "      <td>...</td>\n",
       "      <td>...</td>\n",
       "      <td>...</td>\n",
       "      <td>...</td>\n",
       "      <td>...</td>\n",
       "      <td>...</td>\n",
       "      <td>...</td>\n",
       "      <td>...</td>\n",
       "      <td>...</td>\n",
       "      <td>...</td>\n",
       "      <td>...</td>\n",
       "      <td>...</td>\n",
       "      <td>...</td>\n",
       "      <td>...</td>\n",
       "      <td>...</td>\n",
       "      <td>...</td>\n",
       "      <td>...</td>\n",
       "      <td>...</td>\n",
       "    </tr>\n",
       "    <tr>\n",
       "      <th>12998</th>\n",
       "      <td>0.544915</td>\n",
       "      <td>0.593953</td>\n",
       "      <td>1.006872</td>\n",
       "      <td>0.503745</td>\n",
       "      <td>-0.306529</td>\n",
       "      <td>0</td>\n",
       "      <td>0</td>\n",
       "      <td>1</td>\n",
       "      <td>0</td>\n",
       "      <td>0</td>\n",
       "      <td>0</td>\n",
       "      <td>0</td>\n",
       "      <td>0</td>\n",
       "      <td>0</td>\n",
       "      <td>0</td>\n",
       "      <td>0</td>\n",
       "      <td>0</td>\n",
       "      <td>0</td>\n",
       "      <td>0</td>\n",
       "      <td>0</td>\n",
       "      <td>1</td>\n",
       "      <td>1</td>\n",
       "      <td>0</td>\n",
       "      <td>1</td>\n",
       "      <td>0</td>\n",
       "      <td>1</td>\n",
       "      <td>0</td>\n",
       "      <td>1</td>\n",
       "      <td>0</td>\n",
       "      <td>1</td>\n",
       "      <td>0</td>\n",
       "      <td>0</td>\n",
       "      <td>1</td>\n",
       "      <td>1</td>\n",
       "      <td>0</td>\n",
       "      <td>1</td>\n",
       "      <td>0</td>\n",
       "      <td>1</td>\n",
       "      <td>0</td>\n",
       "      <td>1</td>\n",
       "      <td>0</td>\n",
       "      <td>1</td>\n",
       "      <td>0</td>\n",
       "      <td>1</td>\n",
       "      <td>1</td>\n",
       "      <td>0</td>\n",
       "      <td>1</td>\n",
       "      <td>1</td>\n",
       "      <td>0</td>\n",
       "      <td>1</td>\n",
       "      <td>0</td>\n",
       "      <td>1</td>\n",
       "      <td>1</td>\n",
       "      <td>0</td>\n",
       "      <td>1</td>\n",
       "      <td>0</td>\n",
       "      <td>1</td>\n",
       "      <td>1</td>\n",
       "      <td>0</td>\n",
       "      <td>1</td>\n",
       "      <td>0</td>\n",
       "      <td>1</td>\n",
       "    </tr>\n",
       "    <tr>\n",
       "      <th>12999</th>\n",
       "      <td>-1.286971</td>\n",
       "      <td>-0.606900</td>\n",
       "      <td>1.572240</td>\n",
       "      <td>0.706380</td>\n",
       "      <td>-0.306529</td>\n",
       "      <td>0</td>\n",
       "      <td>1</td>\n",
       "      <td>0</td>\n",
       "      <td>0</td>\n",
       "      <td>0</td>\n",
       "      <td>0</td>\n",
       "      <td>0</td>\n",
       "      <td>0</td>\n",
       "      <td>0</td>\n",
       "      <td>0</td>\n",
       "      <td>0</td>\n",
       "      <td>0</td>\n",
       "      <td>0</td>\n",
       "      <td>1</td>\n",
       "      <td>0</td>\n",
       "      <td>0</td>\n",
       "      <td>1</td>\n",
       "      <td>0</td>\n",
       "      <td>1</td>\n",
       "      <td>0</td>\n",
       "      <td>1</td>\n",
       "      <td>0</td>\n",
       "      <td>1</td>\n",
       "      <td>0</td>\n",
       "      <td>1</td>\n",
       "      <td>0</td>\n",
       "      <td>1</td>\n",
       "      <td>0</td>\n",
       "      <td>1</td>\n",
       "      <td>0</td>\n",
       "      <td>1</td>\n",
       "      <td>0</td>\n",
       "      <td>1</td>\n",
       "      <td>0</td>\n",
       "      <td>1</td>\n",
       "      <td>0</td>\n",
       "      <td>1</td>\n",
       "      <td>0</td>\n",
       "      <td>1</td>\n",
       "      <td>1</td>\n",
       "      <td>0</td>\n",
       "      <td>1</td>\n",
       "      <td>1</td>\n",
       "      <td>0</td>\n",
       "      <td>1</td>\n",
       "      <td>0</td>\n",
       "      <td>1</td>\n",
       "      <td>0</td>\n",
       "      <td>1</td>\n",
       "      <td>1</td>\n",
       "      <td>0</td>\n",
       "      <td>1</td>\n",
       "      <td>1</td>\n",
       "      <td>0</td>\n",
       "      <td>1</td>\n",
       "      <td>0</td>\n",
       "      <td>1</td>\n",
       "    </tr>\n",
       "    <tr>\n",
       "      <th>13000</th>\n",
       "      <td>0.760341</td>\n",
       "      <td>0.233697</td>\n",
       "      <td>0.102283</td>\n",
       "      <td>-0.002845</td>\n",
       "      <td>-0.306529</td>\n",
       "      <td>0</td>\n",
       "      <td>0</td>\n",
       "      <td>1</td>\n",
       "      <td>0</td>\n",
       "      <td>0</td>\n",
       "      <td>0</td>\n",
       "      <td>0</td>\n",
       "      <td>0</td>\n",
       "      <td>0</td>\n",
       "      <td>0</td>\n",
       "      <td>0</td>\n",
       "      <td>0</td>\n",
       "      <td>0</td>\n",
       "      <td>0</td>\n",
       "      <td>0</td>\n",
       "      <td>1</td>\n",
       "      <td>0</td>\n",
       "      <td>1</td>\n",
       "      <td>0</td>\n",
       "      <td>1</td>\n",
       "      <td>1</td>\n",
       "      <td>0</td>\n",
       "      <td>1</td>\n",
       "      <td>0</td>\n",
       "      <td>1</td>\n",
       "      <td>0</td>\n",
       "      <td>1</td>\n",
       "      <td>0</td>\n",
       "      <td>1</td>\n",
       "      <td>0</td>\n",
       "      <td>1</td>\n",
       "      <td>0</td>\n",
       "      <td>1</td>\n",
       "      <td>0</td>\n",
       "      <td>1</td>\n",
       "      <td>0</td>\n",
       "      <td>1</td>\n",
       "      <td>0</td>\n",
       "      <td>1</td>\n",
       "      <td>1</td>\n",
       "      <td>0</td>\n",
       "      <td>1</td>\n",
       "      <td>1</td>\n",
       "      <td>0</td>\n",
       "      <td>1</td>\n",
       "      <td>0</td>\n",
       "      <td>1</td>\n",
       "      <td>1</td>\n",
       "      <td>0</td>\n",
       "      <td>1</td>\n",
       "      <td>0</td>\n",
       "      <td>1</td>\n",
       "      <td>1</td>\n",
       "      <td>0</td>\n",
       "      <td>1</td>\n",
       "      <td>0</td>\n",
       "      <td>1</td>\n",
       "    </tr>\n",
       "    <tr>\n",
       "      <th>13001</th>\n",
       "      <td>-1.288510</td>\n",
       "      <td>-0.222627</td>\n",
       "      <td>-0.010791</td>\n",
       "      <td>1.415606</td>\n",
       "      <td>-0.208886</td>\n",
       "      <td>0</td>\n",
       "      <td>0</td>\n",
       "      <td>1</td>\n",
       "      <td>0</td>\n",
       "      <td>0</td>\n",
       "      <td>1</td>\n",
       "      <td>0</td>\n",
       "      <td>0</td>\n",
       "      <td>0</td>\n",
       "      <td>0</td>\n",
       "      <td>0</td>\n",
       "      <td>0</td>\n",
       "      <td>0</td>\n",
       "      <td>0</td>\n",
       "      <td>0</td>\n",
       "      <td>0</td>\n",
       "      <td>1</td>\n",
       "      <td>0</td>\n",
       "      <td>1</td>\n",
       "      <td>0</td>\n",
       "      <td>0</td>\n",
       "      <td>1</td>\n",
       "      <td>1</td>\n",
       "      <td>0</td>\n",
       "      <td>1</td>\n",
       "      <td>0</td>\n",
       "      <td>1</td>\n",
       "      <td>0</td>\n",
       "      <td>1</td>\n",
       "      <td>0</td>\n",
       "      <td>1</td>\n",
       "      <td>0</td>\n",
       "      <td>1</td>\n",
       "      <td>0</td>\n",
       "      <td>1</td>\n",
       "      <td>0</td>\n",
       "      <td>1</td>\n",
       "      <td>0</td>\n",
       "      <td>1</td>\n",
       "      <td>1</td>\n",
       "      <td>0</td>\n",
       "      <td>1</td>\n",
       "      <td>1</td>\n",
       "      <td>0</td>\n",
       "      <td>1</td>\n",
       "      <td>0</td>\n",
       "      <td>1</td>\n",
       "      <td>1</td>\n",
       "      <td>0</td>\n",
       "      <td>1</td>\n",
       "      <td>0</td>\n",
       "      <td>1</td>\n",
       "      <td>1</td>\n",
       "      <td>0</td>\n",
       "      <td>1</td>\n",
       "      <td>0</td>\n",
       "      <td>1</td>\n",
       "    </tr>\n",
       "    <tr>\n",
       "      <th>13004</th>\n",
       "      <td>0.403350</td>\n",
       "      <td>-0.174593</td>\n",
       "      <td>-0.463085</td>\n",
       "      <td>-1.421295</td>\n",
       "      <td>-0.306529</td>\n",
       "      <td>0</td>\n",
       "      <td>0</td>\n",
       "      <td>0</td>\n",
       "      <td>1</td>\n",
       "      <td>0</td>\n",
       "      <td>0</td>\n",
       "      <td>0</td>\n",
       "      <td>0</td>\n",
       "      <td>0</td>\n",
       "      <td>0</td>\n",
       "      <td>0</td>\n",
       "      <td>0</td>\n",
       "      <td>0</td>\n",
       "      <td>0</td>\n",
       "      <td>0</td>\n",
       "      <td>1</td>\n",
       "      <td>0</td>\n",
       "      <td>1</td>\n",
       "      <td>0</td>\n",
       "      <td>1</td>\n",
       "      <td>1</td>\n",
       "      <td>0</td>\n",
       "      <td>1</td>\n",
       "      <td>0</td>\n",
       "      <td>1</td>\n",
       "      <td>0</td>\n",
       "      <td>1</td>\n",
       "      <td>0</td>\n",
       "      <td>1</td>\n",
       "      <td>0</td>\n",
       "      <td>1</td>\n",
       "      <td>0</td>\n",
       "      <td>1</td>\n",
       "      <td>0</td>\n",
       "      <td>1</td>\n",
       "      <td>0</td>\n",
       "      <td>1</td>\n",
       "      <td>0</td>\n",
       "      <td>1</td>\n",
       "      <td>1</td>\n",
       "      <td>0</td>\n",
       "      <td>1</td>\n",
       "      <td>1</td>\n",
       "      <td>0</td>\n",
       "      <td>1</td>\n",
       "      <td>0</td>\n",
       "      <td>1</td>\n",
       "      <td>1</td>\n",
       "      <td>0</td>\n",
       "      <td>1</td>\n",
       "      <td>0</td>\n",
       "      <td>1</td>\n",
       "      <td>1</td>\n",
       "      <td>0</td>\n",
       "      <td>1</td>\n",
       "      <td>0</td>\n",
       "      <td>1</td>\n",
       "    </tr>\n",
       "  </tbody>\n",
       "</table>\n",
       "<p>5449 rows × 62 columns</p>\n",
       "</div>"
      ],
      "text/plain": [
       "       Number of Theaters    budget   Runtime  Ratings_IMDB  Released Year  \\\n",
       "0     -1.261582            1.794805  3.551029  1.212970      0.084042        \n",
       "1     -0.813804            0.834123  2.024535  0.909016      0.181685        \n",
       "2     -1.287741           -0.246644  0.611114  0.402427      0.084042        \n",
       "5      1.414311            1.074294  0.441504 -0.002845      0.084042        \n",
       "9      0.764957           -0.222627 -0.802306 -1.927885      0.084042        \n",
       "...         ...                 ...       ...       ...           ...        \n",
       "12998  0.544915            0.593953  1.006872  0.503745     -0.306529        \n",
       "12999 -1.286971           -0.606900  1.572240  0.706380     -0.306529        \n",
       "13000  0.760341            0.233697  0.102283 -0.002845     -0.306529        \n",
       "13001 -1.288510           -0.222627 -0.010791  1.415606     -0.208886        \n",
       "13004  0.403350           -0.174593 -0.463085 -1.421295     -0.306529        \n",
       "\n",
       "       Rated_G  Rated_PG  Rated_PG-13  Rated_R  Month_1  Month_2  Month_3  \\\n",
       "0      0        0         1            0        0        0        0         \n",
       "1      0        0         1            0        1        0        0         \n",
       "2      0        0         1            0        0        0        0         \n",
       "5      0        0         1            0        0        0        0         \n",
       "9      0        1         0            0        0        0        0         \n",
       "...   ..       ..        ..           ..       ..       ..       ..         \n",
       "12998  0        0         1            0        0        0        0         \n",
       "12999  0        1         0            0        0        0        0         \n",
       "13000  0        0         1            0        0        0        0         \n",
       "13001  0        0         1            0        0        1        0         \n",
       "13004  0        0         0            1        0        0        0         \n",
       "\n",
       "       Month_4  Month_5  Month_6  Month_7  Month_8  Month_9  Month_10  \\\n",
       "0      0        0        0        0        0        0        0          \n",
       "1      0        0        0        0        0        0        0          \n",
       "2      0        0        0        0        0        0        0          \n",
       "5      0        0        0        0        0        0        0          \n",
       "9      0        0        0        0        0        0        0          \n",
       "...   ..       ..       ..       ..       ..       ..       ..          \n",
       "12998  0        0        0        0        0        0        0          \n",
       "12999  0        0        0        0        0        0        1          \n",
       "13000  0        0        0        0        0        0        0          \n",
       "13001  0        0        0        0        0        0        0          \n",
       "13004  0        0        0        0        0        0        0          \n",
       "\n",
       "       Month_11  Month_12  In Collection_No  In Collection_Yes  Action_False  \\\n",
       "0      0         1         1                 0                  1              \n",
       "1      0         0         1                 0                  1              \n",
       "2      0         1         1                 0                  1              \n",
       "5      0         1         0                 1                  1              \n",
       "9      0         1         1                 0                  1              \n",
       "...   ..        ..        ..                ..                 ..              \n",
       "12998  0         1         1                 0                  1              \n",
       "12999  0         0         1                 0                  1              \n",
       "13000  0         1         0                 1                  0              \n",
       "13001  0         0         1                 0                  1              \n",
       "13004  0         1         0                 1                  0              \n",
       "\n",
       "       Action_True  Adventure_False  Adventure_True  Animation_False  \\\n",
       "0      0            1                0               1                 \n",
       "1      0            1                0               1                 \n",
       "2      0            1                0               1                 \n",
       "5      0            1                0               1                 \n",
       "9      0            1                0               1                 \n",
       "...   ..           ..               ..              ..                 \n",
       "12998  0            1                0               1                 \n",
       "12999  0            1                0               1                 \n",
       "13000  1            1                0               1                 \n",
       "13001  0            0                1               1                 \n",
       "13004  1            1                0               1                 \n",
       "\n",
       "       Animation_True  Biography_False  Biography_True  Comedy_False  \\\n",
       "0      0               0                1               1              \n",
       "1      0               1                0               1              \n",
       "2      0               0                1               1              \n",
       "5      0               1                0               0              \n",
       "9      0               1                0               0              \n",
       "...   ..              ..               ..              ..              \n",
       "12998  0               1                0               0              \n",
       "12999  0               1                0               1              \n",
       "13000  0               1                0               1              \n",
       "13001  0               1                0               1              \n",
       "13004  0               1                0               1              \n",
       "\n",
       "       Comedy_True  Crime_False  Crime_True  Documentary_False  \\\n",
       "0      0            1            0           1                   \n",
       "1      0            1            0           1                   \n",
       "2      0            1            0           1                   \n",
       "5      1            1            0           1                   \n",
       "9      1            1            0           1                   \n",
       "...   ..           ..           ..          ..                   \n",
       "12998  1            1            0           1                   \n",
       "12999  0            1            0           1                   \n",
       "13000  0            1            0           1                   \n",
       "13001  0            1            0           1                   \n",
       "13004  0            1            0           1                   \n",
       "\n",
       "       Documentary_True  Drama_False  Drama_True  Family_False  Family_True  \\\n",
       "0      0                 1            0           1             0             \n",
       "1      0                 0            1           1             0             \n",
       "2      0                 1            0           1             0             \n",
       "5      0                 1            0           1             0             \n",
       "9      0                 1            0           1             0             \n",
       "...   ..                ..           ..          ..            ..             \n",
       "12998  0                 1            0           1             0             \n",
       "12999  0                 1            0           1             0             \n",
       "13000  0                 1            0           1             0             \n",
       "13001  0                 1            0           1             0             \n",
       "13004  0                 1            0           1             0             \n",
       "\n",
       "       Fantasy_False  Fantasy_True  History_False  Horror_False  Horror_True  \\\n",
       "0      1              0             1              1             0             \n",
       "1      1              0             1              1             0             \n",
       "2      1              0             1              1             0             \n",
       "5      1              0             1              1             0             \n",
       "9      1              0             1              1             0             \n",
       "...   ..             ..            ..             ..            ..             \n",
       "12998  1              0             1              1             0             \n",
       "12999  1              0             1              1             0             \n",
       "13000  1              0             1              1             0             \n",
       "13001  1              0             1              1             0             \n",
       "13004  1              0             1              1             0             \n",
       "\n",
       "       Music_False  Musical_False  Musical_True  Mystery_False  Mystery_True  \\\n",
       "0      1            1              0             1              0              \n",
       "1      1            1              0             1              0              \n",
       "2      1            1              0             1              0              \n",
       "5      1            1              0             1              0              \n",
       "9      1            1              0             1              0              \n",
       "...   ..           ..             ..            ..             ..              \n",
       "12998  1            1              0             1              0              \n",
       "12999  1            1              0             1              0              \n",
       "13000  1            1              0             1              0              \n",
       "13001  1            1              0             1              0              \n",
       "13004  1            1              0             1              0              \n",
       "\n",
       "       News_False  Romance_False  Romance_True  Sci-Fi_False  Sci-Fi_True  \\\n",
       "0      1           1              0             1             0             \n",
       "1      1           1              0             1             0             \n",
       "2      1           1              0             1             0             \n",
       "5      1           1              0             1             0             \n",
       "9      1           1              0             1             0             \n",
       "...   ..          ..             ..            ..            ..             \n",
       "12998  1           1              0             1             0             \n",
       "12999  1           0              1             1             0             \n",
       "13000  1           1              0             1             0             \n",
       "13001  1           1              0             1             0             \n",
       "13004  1           1              0             1             0             \n",
       "\n",
       "       Sport_False  Thriller_False  Thriller_True  War_False  War_True  \\\n",
       "0      1            1               0              1          0          \n",
       "1      1            1               0              1          0          \n",
       "2      1            1               0              1          0          \n",
       "5      1            1               0              1          0          \n",
       "9      1            1               0              1          0          \n",
       "...   ..           ..              ..             ..         ..          \n",
       "12998  1            1               0              1          0          \n",
       "12999  1            1               0              1          0          \n",
       "13000  1            1               0              1          0          \n",
       "13001  1            1               0              1          0          \n",
       "13004  1            1               0              1          0          \n",
       "\n",
       "       Western_False  \n",
       "0      1              \n",
       "1      1              \n",
       "2      1              \n",
       "5      1              \n",
       "9      1              \n",
       "...   ..              \n",
       "12998  1              \n",
       "12999  1              \n",
       "13000  1              \n",
       "13001  1              \n",
       "13004  1              \n",
       "\n",
       "[5449 rows x 62 columns]"
      ]
     },
     "execution_count": 1360,
     "metadata": {},
     "output_type": "execute_result"
    }
   ],
   "source": [
    "df_x"
   ]
  },
  {
   "cell_type": "code",
   "execution_count": 1361,
   "metadata": {},
   "outputs": [],
   "source": [
    "#Create output dataframe\n",
    "column_names = ['Model Type' ,'R^2', 'MSE', 'RMSE']\n",
    "df_models = pd.DataFrame(columns=column_names)"
   ]
  },
  {
   "cell_type": "code",
   "execution_count": 1362,
   "metadata": {},
   "outputs": [],
   "source": [
    "all_models = [LinearRegression(), DecisionTreeRegressor(random_state = rand_state), RandomForestRegressor( random_state = rand_state)]"
   ]
  },
  {
   "cell_type": "code",
   "execution_count": 1363,
   "metadata": {},
   "outputs": [
    {
     "name": "stdout",
     "output_type": "stream",
     "text": [
      "LinearRegression()\n",
      "DecisionTreeRegressor(random_state=425)\n",
      "RandomForestRegressor(random_state=425)\n"
     ]
    }
   ],
   "source": [
    "output = []\n",
    "for curr_model in all_models:\n",
    "    print(curr_model)\n",
    "    curr_model.fit(X_train,y_train.Adjusted_Opening_Weekend_Revenue)\n",
    "    preds_dummy = curr_model.predict(X_train)\n",
    "    r2_scores = cross_val_score(curr_model, X_train, y_train.Adjusted_Opening_Weekend_Revenue, cv=10, scoring='r2').mean()\n",
    "    mse = cross_val_score(estimator= curr_model, X= X_train, y= y_train.Adjusted_Opening_Weekend_Revenue, cv= 10, scoring= 'neg_mean_squared_error')\n",
    "    mse_mean = mse.mean()\n",
    "    rmse = np.sqrt(-mse_mean)\n",
    "    rmse_mean = rmse.mean()\n",
    "    output += [[str(curr_model).split(\"(\")[0], r2_scores, mse_mean, rmse]]\n",
    "\n",
    "\n",
    "df_models = pd.DataFrame(output, columns=['Model Type' ,'R^2', 'MSE', 'RMSE'])\n"
   ]
  },
  {
   "cell_type": "code",
   "execution_count": 1364,
   "metadata": {},
   "outputs": [
    {
     "data": {
      "text/html": [
       "<div>\n",
       "<style scoped>\n",
       "    .dataframe tbody tr th:only-of-type {\n",
       "        vertical-align: middle;\n",
       "    }\n",
       "\n",
       "    .dataframe tbody tr th {\n",
       "        vertical-align: top;\n",
       "    }\n",
       "\n",
       "    .dataframe thead th {\n",
       "        text-align: right;\n",
       "    }\n",
       "</style>\n",
       "<table border=\"1\" class=\"dataframe\">\n",
       "  <thead>\n",
       "    <tr style=\"text-align: right;\">\n",
       "      <th></th>\n",
       "      <th>Model Type</th>\n",
       "      <th>R^2</th>\n",
       "      <th>MSE</th>\n",
       "      <th>RMSE</th>\n",
       "    </tr>\n",
       "  </thead>\n",
       "  <tbody>\n",
       "    <tr>\n",
       "      <th>0</th>\n",
       "      <td>LinearRegression</td>\n",
       "      <td>0.636573</td>\n",
       "      <td>-0.383498</td>\n",
       "      <td>0.619272</td>\n",
       "    </tr>\n",
       "    <tr>\n",
       "      <th>1</th>\n",
       "      <td>DecisionTreeRegressor</td>\n",
       "      <td>0.499487</td>\n",
       "      <td>-0.487534</td>\n",
       "      <td>0.698237</td>\n",
       "    </tr>\n",
       "    <tr>\n",
       "      <th>2</th>\n",
       "      <td>RandomForestRegressor</td>\n",
       "      <td>0.776346</td>\n",
       "      <td>-0.227921</td>\n",
       "      <td>0.477411</td>\n",
       "    </tr>\n",
       "  </tbody>\n",
       "</table>\n",
       "</div>"
      ],
      "text/plain": [
       "              Model Type       R^2       MSE      RMSE\n",
       "0  LinearRegression       0.636573 -0.383498  0.619272\n",
       "1  DecisionTreeRegressor  0.499487 -0.487534  0.698237\n",
       "2  RandomForestRegressor  0.776346 -0.227921  0.477411"
      ]
     },
     "execution_count": 1364,
     "metadata": {},
     "output_type": "execute_result"
    }
   ],
   "source": [
    "df_models"
   ]
  },
  {
   "cell_type": "code",
   "execution_count": 1365,
   "metadata": {},
   "outputs": [],
   "source": [
    "#Calculate the number of cores your CPU has\n",
    "num_cores = os.cpu_count()"
   ]
  },
  {
   "cell_type": "code",
   "execution_count": 1366,
   "metadata": {},
   "outputs": [
    {
     "data": {
      "text/html": [
       "<style>#sk-container-id-5 {color: black;}#sk-container-id-5 pre{padding: 0;}#sk-container-id-5 div.sk-toggleable {background-color: white;}#sk-container-id-5 label.sk-toggleable__label {cursor: pointer;display: block;width: 100%;margin-bottom: 0;padding: 0.3em;box-sizing: border-box;text-align: center;}#sk-container-id-5 label.sk-toggleable__label-arrow:before {content: \"▸\";float: left;margin-right: 0.25em;color: #696969;}#sk-container-id-5 label.sk-toggleable__label-arrow:hover:before {color: black;}#sk-container-id-5 div.sk-estimator:hover label.sk-toggleable__label-arrow:before {color: black;}#sk-container-id-5 div.sk-toggleable__content {max-height: 0;max-width: 0;overflow: hidden;text-align: left;background-color: #f0f8ff;}#sk-container-id-5 div.sk-toggleable__content pre {margin: 0.2em;color: black;border-radius: 0.25em;background-color: #f0f8ff;}#sk-container-id-5 input.sk-toggleable__control:checked~div.sk-toggleable__content {max-height: 200px;max-width: 100%;overflow: auto;}#sk-container-id-5 input.sk-toggleable__control:checked~label.sk-toggleable__label-arrow:before {content: \"▾\";}#sk-container-id-5 div.sk-estimator input.sk-toggleable__control:checked~label.sk-toggleable__label {background-color: #d4ebff;}#sk-container-id-5 div.sk-label input.sk-toggleable__control:checked~label.sk-toggleable__label {background-color: #d4ebff;}#sk-container-id-5 input.sk-hidden--visually {border: 0;clip: rect(1px 1px 1px 1px);clip: rect(1px, 1px, 1px, 1px);height: 1px;margin: -1px;overflow: hidden;padding: 0;position: absolute;width: 1px;}#sk-container-id-5 div.sk-estimator {font-family: monospace;background-color: #f0f8ff;border: 1px dotted black;border-radius: 0.25em;box-sizing: border-box;margin-bottom: 0.5em;}#sk-container-id-5 div.sk-estimator:hover {background-color: #d4ebff;}#sk-container-id-5 div.sk-parallel-item::after {content: \"\";width: 100%;border-bottom: 1px solid gray;flex-grow: 1;}#sk-container-id-5 div.sk-label:hover label.sk-toggleable__label {background-color: #d4ebff;}#sk-container-id-5 div.sk-serial::before {content: \"\";position: absolute;border-left: 1px solid gray;box-sizing: border-box;top: 0;bottom: 0;left: 50%;z-index: 0;}#sk-container-id-5 div.sk-serial {display: flex;flex-direction: column;align-items: center;background-color: white;padding-right: 0.2em;padding-left: 0.2em;position: relative;}#sk-container-id-5 div.sk-item {position: relative;z-index: 1;}#sk-container-id-5 div.sk-parallel {display: flex;align-items: stretch;justify-content: center;background-color: white;position: relative;}#sk-container-id-5 div.sk-item::before, #sk-container-id-5 div.sk-parallel-item::before {content: \"\";position: absolute;border-left: 1px solid gray;box-sizing: border-box;top: 0;bottom: 0;left: 50%;z-index: -1;}#sk-container-id-5 div.sk-parallel-item {display: flex;flex-direction: column;z-index: 1;position: relative;background-color: white;}#sk-container-id-5 div.sk-parallel-item:first-child::after {align-self: flex-end;width: 50%;}#sk-container-id-5 div.sk-parallel-item:last-child::after {align-self: flex-start;width: 50%;}#sk-container-id-5 div.sk-parallel-item:only-child::after {width: 0;}#sk-container-id-5 div.sk-dashed-wrapped {border: 1px dashed gray;margin: 0 0.4em 0.5em 0.4em;box-sizing: border-box;padding-bottom: 0.4em;background-color: white;}#sk-container-id-5 div.sk-label label {font-family: monospace;font-weight: bold;display: inline-block;line-height: 1.2em;}#sk-container-id-5 div.sk-label-container {text-align: center;}#sk-container-id-5 div.sk-container {/* jupyter's `normalize.less` sets `[hidden] { display: none; }` but bootstrap.min.css set `[hidden] { display: none !important; }` so we also need the `!important` here to be able to override the default hidden behavior on the sphinx rendered scikit-learn.org. See: https://github.com/scikit-learn/scikit-learn/issues/21755 */display: inline-block !important;position: relative;}#sk-container-id-5 div.sk-text-repr-fallback {display: none;}</style><div id=\"sk-container-id-5\" class=\"sk-top-container\"><div class=\"sk-text-repr-fallback\"><pre>RandomizedSearchCV(cv=3, estimator=RandomForestRegressor(), n_iter=20, n_jobs=7,\n",
       "                   param_distributions={&#x27;bootstrap&#x27;: [True, False],\n",
       "                                        &#x27;max_depth&#x27;: array([ 10,  20,  30,  40,  50,  60,  70,  80,  90, 100, 110]),\n",
       "                                        &#x27;max_features&#x27;: [1, &#x27;sqrt&#x27;],\n",
       "                                        &#x27;min_samples_leaf&#x27;: [1, 2, 4],\n",
       "                                        &#x27;min_samples_split&#x27;: [2, 5, 10],\n",
       "                                        &#x27;n_estimators&#x27;: array([ 200,  400,  600,  800, 1000, 1200, 1400, 1600, 1800, 2000])},\n",
       "                   random_state=425)</pre><b>In a Jupyter environment, please rerun this cell to show the HTML representation or trust the notebook. <br />On GitHub, the HTML representation is unable to render, please try loading this page with nbviewer.org.</b></div><div class=\"sk-container\" hidden><div class=\"sk-item sk-dashed-wrapped\"><div class=\"sk-label-container\"><div class=\"sk-label sk-toggleable\"><input class=\"sk-toggleable__control sk-hidden--visually\" id=\"sk-estimator-id-9\" type=\"checkbox\" ><label for=\"sk-estimator-id-9\" class=\"sk-toggleable__label sk-toggleable__label-arrow\">RandomizedSearchCV</label><div class=\"sk-toggleable__content\"><pre>RandomizedSearchCV(cv=3, estimator=RandomForestRegressor(), n_iter=20, n_jobs=7,\n",
       "                   param_distributions={&#x27;bootstrap&#x27;: [True, False],\n",
       "                                        &#x27;max_depth&#x27;: array([ 10,  20,  30,  40,  50,  60,  70,  80,  90, 100, 110]),\n",
       "                                        &#x27;max_features&#x27;: [1, &#x27;sqrt&#x27;],\n",
       "                                        &#x27;min_samples_leaf&#x27;: [1, 2, 4],\n",
       "                                        &#x27;min_samples_split&#x27;: [2, 5, 10],\n",
       "                                        &#x27;n_estimators&#x27;: array([ 200,  400,  600,  800, 1000, 1200, 1400, 1600, 1800, 2000])},\n",
       "                   random_state=425)</pre></div></div></div><div class=\"sk-parallel\"><div class=\"sk-parallel-item\"><div class=\"sk-item\"><div class=\"sk-label-container\"><div class=\"sk-label sk-toggleable\"><input class=\"sk-toggleable__control sk-hidden--visually\" id=\"sk-estimator-id-10\" type=\"checkbox\" ><label for=\"sk-estimator-id-10\" class=\"sk-toggleable__label sk-toggleable__label-arrow\">estimator: RandomForestRegressor</label><div class=\"sk-toggleable__content\"><pre>RandomForestRegressor()</pre></div></div></div><div class=\"sk-serial\"><div class=\"sk-item\"><div class=\"sk-estimator sk-toggleable\"><input class=\"sk-toggleable__control sk-hidden--visually\" id=\"sk-estimator-id-11\" type=\"checkbox\" ><label for=\"sk-estimator-id-11\" class=\"sk-toggleable__label sk-toggleable__label-arrow\">RandomForestRegressor</label><div class=\"sk-toggleable__content\"><pre>RandomForestRegressor()</pre></div></div></div></div></div></div></div></div></div></div>"
      ],
      "text/plain": [
       "RandomizedSearchCV(cv=3, estimator=RandomForestRegressor(), n_iter=20, n_jobs=7,\n",
       "                   param_distributions={'bootstrap': [True, False],\n",
       "                                        'max_depth': array([ 10,  20,  30,  40,  50,  60,  70,  80,  90, 100, 110]),\n",
       "                                        'max_features': [1, 'sqrt'],\n",
       "                                        'min_samples_leaf': [1, 2, 4],\n",
       "                                        'min_samples_split': [2, 5, 10],\n",
       "                                        'n_estimators': array([ 200,  400,  600,  800, 1000, 1200, 1400, 1600, 1800, 2000])},\n",
       "                   random_state=425)"
      ]
     },
     "execution_count": 1366,
     "metadata": {},
     "output_type": "execute_result"
    }
   ],
   "source": [
    "#Create grid\n",
    "param_grid = {'bootstrap': [True, False]\n",
    "                , 'max_depth' : np.linspace(10,110,11,dtype=int)\n",
    "                , 'max_features' : [1 ,'sqrt']        \n",
    "                , 'min_samples_split': [2,5,10]\n",
    "                , 'min_samples_leaf': [1,2,4]        \n",
    "                , 'n_estimators': np.linspace(200,2000,10, dtype=int)\n",
    "             }\n",
    "\n",
    "#Final random forest model\n",
    "final_rand_for = RandomForestRegressor()\n",
    "\n",
    "#Perform random search\n",
    "rand_search = RandomizedSearchCV(final_rand_for, param_distributions=param_grid, n_iter = 20, cv =3, n_jobs=num_cores-1,random_state = rand_state)\n",
    "\n",
    "#Fit model\n",
    "rand_search.fit(X_train, y_train.Adjusted_Opening_Weekend_Revenue)"
   ]
  },
  {
   "cell_type": "markdown",
   "metadata": {},
   "source": [
    "Pull best estimators out and calculate R^2, MSE and RMSE"
   ]
  },
  {
   "cell_type": "code",
   "execution_count": 1367,
   "metadata": {},
   "outputs": [
    {
     "data": {
      "text/html": [
       "<style>#sk-container-id-6 {color: black;}#sk-container-id-6 pre{padding: 0;}#sk-container-id-6 div.sk-toggleable {background-color: white;}#sk-container-id-6 label.sk-toggleable__label {cursor: pointer;display: block;width: 100%;margin-bottom: 0;padding: 0.3em;box-sizing: border-box;text-align: center;}#sk-container-id-6 label.sk-toggleable__label-arrow:before {content: \"▸\";float: left;margin-right: 0.25em;color: #696969;}#sk-container-id-6 label.sk-toggleable__label-arrow:hover:before {color: black;}#sk-container-id-6 div.sk-estimator:hover label.sk-toggleable__label-arrow:before {color: black;}#sk-container-id-6 div.sk-toggleable__content {max-height: 0;max-width: 0;overflow: hidden;text-align: left;background-color: #f0f8ff;}#sk-container-id-6 div.sk-toggleable__content pre {margin: 0.2em;color: black;border-radius: 0.25em;background-color: #f0f8ff;}#sk-container-id-6 input.sk-toggleable__control:checked~div.sk-toggleable__content {max-height: 200px;max-width: 100%;overflow: auto;}#sk-container-id-6 input.sk-toggleable__control:checked~label.sk-toggleable__label-arrow:before {content: \"▾\";}#sk-container-id-6 div.sk-estimator input.sk-toggleable__control:checked~label.sk-toggleable__label {background-color: #d4ebff;}#sk-container-id-6 div.sk-label input.sk-toggleable__control:checked~label.sk-toggleable__label {background-color: #d4ebff;}#sk-container-id-6 input.sk-hidden--visually {border: 0;clip: rect(1px 1px 1px 1px);clip: rect(1px, 1px, 1px, 1px);height: 1px;margin: -1px;overflow: hidden;padding: 0;position: absolute;width: 1px;}#sk-container-id-6 div.sk-estimator {font-family: monospace;background-color: #f0f8ff;border: 1px dotted black;border-radius: 0.25em;box-sizing: border-box;margin-bottom: 0.5em;}#sk-container-id-6 div.sk-estimator:hover {background-color: #d4ebff;}#sk-container-id-6 div.sk-parallel-item::after {content: \"\";width: 100%;border-bottom: 1px solid gray;flex-grow: 1;}#sk-container-id-6 div.sk-label:hover label.sk-toggleable__label {background-color: #d4ebff;}#sk-container-id-6 div.sk-serial::before {content: \"\";position: absolute;border-left: 1px solid gray;box-sizing: border-box;top: 0;bottom: 0;left: 50%;z-index: 0;}#sk-container-id-6 div.sk-serial {display: flex;flex-direction: column;align-items: center;background-color: white;padding-right: 0.2em;padding-left: 0.2em;position: relative;}#sk-container-id-6 div.sk-item {position: relative;z-index: 1;}#sk-container-id-6 div.sk-parallel {display: flex;align-items: stretch;justify-content: center;background-color: white;position: relative;}#sk-container-id-6 div.sk-item::before, #sk-container-id-6 div.sk-parallel-item::before {content: \"\";position: absolute;border-left: 1px solid gray;box-sizing: border-box;top: 0;bottom: 0;left: 50%;z-index: -1;}#sk-container-id-6 div.sk-parallel-item {display: flex;flex-direction: column;z-index: 1;position: relative;background-color: white;}#sk-container-id-6 div.sk-parallel-item:first-child::after {align-self: flex-end;width: 50%;}#sk-container-id-6 div.sk-parallel-item:last-child::after {align-self: flex-start;width: 50%;}#sk-container-id-6 div.sk-parallel-item:only-child::after {width: 0;}#sk-container-id-6 div.sk-dashed-wrapped {border: 1px dashed gray;margin: 0 0.4em 0.5em 0.4em;box-sizing: border-box;padding-bottom: 0.4em;background-color: white;}#sk-container-id-6 div.sk-label label {font-family: monospace;font-weight: bold;display: inline-block;line-height: 1.2em;}#sk-container-id-6 div.sk-label-container {text-align: center;}#sk-container-id-6 div.sk-container {/* jupyter's `normalize.less` sets `[hidden] { display: none; }` but bootstrap.min.css set `[hidden] { display: none !important; }` so we also need the `!important` here to be able to override the default hidden behavior on the sphinx rendered scikit-learn.org. See: https://github.com/scikit-learn/scikit-learn/issues/21755 */display: inline-block !important;position: relative;}#sk-container-id-6 div.sk-text-repr-fallback {display: none;}</style><div id=\"sk-container-id-6\" class=\"sk-top-container\"><div class=\"sk-text-repr-fallback\"><pre>RandomForestRegressor(bootstrap=False, max_depth=40, max_features=&#x27;sqrt&#x27;,\n",
       "                      n_estimators=1200)</pre><b>In a Jupyter environment, please rerun this cell to show the HTML representation or trust the notebook. <br />On GitHub, the HTML representation is unable to render, please try loading this page with nbviewer.org.</b></div><div class=\"sk-container\" hidden><div class=\"sk-item\"><div class=\"sk-estimator sk-toggleable\"><input class=\"sk-toggleable__control sk-hidden--visually\" id=\"sk-estimator-id-12\" type=\"checkbox\" checked><label for=\"sk-estimator-id-12\" class=\"sk-toggleable__label sk-toggleable__label-arrow\">RandomForestRegressor</label><div class=\"sk-toggleable__content\"><pre>RandomForestRegressor(bootstrap=False, max_depth=40, max_features=&#x27;sqrt&#x27;,\n",
       "                      n_estimators=1200)</pre></div></div></div></div></div>"
      ],
      "text/plain": [
       "RandomForestRegressor(bootstrap=False, max_depth=40, max_features='sqrt',\n",
       "                      n_estimators=1200)"
      ]
     },
     "execution_count": 1367,
     "metadata": {},
     "output_type": "execute_result"
    }
   ],
   "source": [
    "best_estimator = rand_search.best_estimator_\n",
    "best_estimator"
   ]
  },
  {
   "cell_type": "code",
   "execution_count": 1368,
   "metadata": {},
   "outputs": [
    {
     "name": "stdout",
     "output_type": "stream",
     "text": [
      "The R^2 values from the cross val scores are: [0.75149261 0.76488434 0.7423521 ]\n",
      "The MSE from the cross val scores are: [-0.25121129 -0.29249066 -0.23101473]\n",
      "The RMSE is: [0.50120982 0.54082405 0.48063991]\n",
      "The mean values for R^2: 0.75, mse: -0.26 and RMSE: 0.51\n"
     ]
    }
   ],
   "source": [
    "r2_scores_best = cross_val_score(best_estimator, X_train, y_train.Adjusted_Opening_Weekend_Revenue, cv=3, scoring='r2')\n",
    "mse_scores_best = cross_val_score(rand_search.best_estimator_, X_train, y_train.Adjusted_Opening_Weekend_Revenue, cv=3, scoring='neg_mean_squared_error')\n",
    "print(f'The R^2 values from the cross val scores are: {r2_scores_best}')\n",
    "print(f'The MSE from the cross val scores are: {mse_scores_best}')\n",
    "rmse_best = np.sqrt(-mse_scores_best)\n",
    "print(f'The RMSE is: {rmse_best}')\n",
    "print(f'The mean values for R^2: {r2_scores_best.mean():.2f}, mse: {mse_scores_best.mean():.2f} and RMSE: {rmse_best.mean():.2f}')"
   ]
  },
  {
   "cell_type": "markdown",
   "metadata": {},
   "source": [
    "We will look at which features are most important using a feature importance plot"
   ]
  },
  {
   "cell_type": "code",
   "execution_count": 1373,
   "metadata": {},
   "outputs": [
    {
     "data": {
      "image/png": "[encoded data removed]",
      "text/plain": [
       "<Figure size 640x480 with 1 Axes>"
      ]
     },
     "metadata": {},
     "output_type": "display_data"
    }
   ],
   "source": [
    "import_feats = (pd.Series(rand_search.best_estimator_.feature_importances_, index=X_train.columns).nlargest(10))\n",
    "graph_type = import_feats.plot(kind='barh')\n",
    "graph_type.grid(True, linestyle='--', linewidth=0.5, color='gray')\n",
    "for index, value in enumerate(import_feats):\n",
    "    graph_type.text(value, index, f' {value:.4f}', va='center')\n",
    "graph_type.set_title('Top 10 Important Features')\n",
    "graph_type.set_ylabel('Features')\n",
    "graph_type.set_xlabel('Importance Percent')\n",
    "plt.show()\n"
   ]
  },
  {
   "cell_type": "markdown",
   "metadata": {},
   "source": []
  }
 ],
 "metadata": {
  "kernelspec": {
   "display_name": "Python 3",
   "language": "python",
   "name": "python3"
  },
  "language_info": {
   "codemirror_mode": {
    "name": "ipython",
    "version": 3
   },
   "file_extension": ".py",
   "mimetype": "text/x-python",
   "name": "python",
   "nbconvert_exporter": "python",
   "pygments_lexer": "ipython3",
   "version": "3.10.11"
  }
 },
 "nbformat": 4,
 "nbformat_minor": 2
}
